{
 "cells": [
  {
   "cell_type": "code",
   "execution_count": 1,
   "metadata": {},
   "outputs": [],
   "source": [
    "# Dependencies and Setup\n",
    "%matplotlib inline\n",
    "import matplotlib.pyplot as plt\n",
    "import pandas as pd\n",
    "import numpy as np\n",
    "\n",
    "# Hide warning messages in notebook\n",
    "import warnings\n",
    "warnings.filterwarnings('ignore')\n",
    "\n",
    "chunck_size=500\n",
    "# File to Load (Remember to Change These)\n",
    "nyc_zillow_load = \"\\\\Users\\\\Paul-DS\\\\Downloads\\\\Neighborhood_MedianValuePerSqft_AllHomes.csv\"\n",
    "nyc_crime_load=\"\\\\Users\\\\Paul-DS\\\\Downloads\\\\NYPD_Complaint_Data_Historic.csv\"\n",
    "\n",
    "nyc_zillow_data=pd.read_csv(nyc_zillow_load, low_memory=True)\n",
    "nyc_crime_data=pd.read_csv(nyc_crime_load, low_memory=True)\n",
    "\n"
   ]
  },
  {
   "cell_type": "code",
   "execution_count": 2,
   "metadata": {},
   "outputs": [],
   "source": [
    "#nyc_crime_data.set_index('RPT_DT').groupby(pd.TimeGrouper('M')).mean().dropna()"
   ]
  },
  {
   "cell_type": "code",
   "execution_count": 3,
   "metadata": {},
   "outputs": [
    {
     "data": {
      "text/plain": [
       "Index(['CMPLNT_NUM', 'CMPLNT_FR_DT', 'CMPLNT_FR_TM', 'CMPLNT_TO_DT',\n",
       "       'CMPLNT_TO_TM', 'RPT_DT', 'KY_CD', 'OFNS_DESC', 'PD_CD', 'PD_DESC',\n",
       "       'CRM_ATPT_CPTD_CD', 'LAW_CAT_CD', 'JURIS_DESC', 'BORO_NM',\n",
       "       'ADDR_PCT_CD', 'LOC_OF_OCCUR_DESC', 'PREM_TYP_DESC', 'PARKS_NM',\n",
       "       'HADEVELOPT', 'X_COORD_CD', 'Y_COORD_CD', 'Latitude', 'Longitude',\n",
       "       'Lat_Lon'],\n",
       "      dtype='object')"
      ]
     },
     "execution_count": 3,
     "metadata": {},
     "output_type": "execute_result"
    }
   ],
   "source": [
    "nyc_crime_data.columns"
   ]
  },
  {
   "cell_type": "code",
   "execution_count": 4,
   "metadata": {},
   "outputs": [
    {
     "data": {
      "text/plain": [
       "array(['BAR/NIGHT CLUB', nan, 'OTHER', 'RESIDENCE-HOUSE', 'DRUG STORE',\n",
       "       'STREET', 'RESIDENCE - APT. HOUSE', 'FAST FOOD',\n",
       "       'RESTAURANT/DINER', 'DRY CLEANER/LAUNDRY', 'PUBLIC BUILDING',\n",
       "       'RESIDENCE - PUBLIC HOUSING', 'PARK/PLAYGROUND',\n",
       "       'PARKING LOT/GARAGE (PUBLIC)', 'GAS STATION', 'TUNNEL',\n",
       "       'CHAIN STORE', 'CHECK CASHING BUSINESS', 'TRANSIT - NYC SUBWAY',\n",
       "       'BUS (NYC TRANSIT)', 'BEAUTY & NAIL SALON', 'GROCERY/BODEGA',\n",
       "       'COMMERCIAL BUILDING', 'FOOD SUPERMARKET', 'HOTEL/MOTEL',\n",
       "       'SMALL MERCHANT', 'CHURCH', 'PARKING LOT/GARAGE (PRIVATE)',\n",
       "       'DEPARTMENT STORE', 'STORE UNCLASSIFIED', 'GYM/FITNESS FACILITY',\n",
       "       'VARIETY STORE', 'CLOTHING/BOUTIQUE', 'FERRY/FERRY TERMINAL',\n",
       "       'DOCTOR/DENTIST OFFICE', 'TELECOMM. STORE', 'JEWELRY',\n",
       "       'CONSTRUCTION SITE', 'BUS STOP', 'BANK', 'HOSPITAL',\n",
       "       'TAXI (LIVERY LICENSED)', 'ATM', 'BRIDGE',\n",
       "       'PRIVATE/PAROCHIAL SCHOOL', 'SOCIAL CLUB/POLICY', 'CANDY STORE',\n",
       "       'FACTORY/WAREHOUSE', 'AIRPORT TERMINAL', 'LIQUOR STORE',\n",
       "       'BOOK/CARD', 'OPEN AREAS (OPEN LOTS)', 'MARINA/PIER',\n",
       "       'HIGHWAY/PARKWAY', 'PUBLIC SCHOOL', 'BUS (OTHER)',\n",
       "       'TRANSIT FACILITY (OTHER)', 'SYNAGOGUE', 'ABANDONED BUILDING',\n",
       "       'SHOE', 'BUS TERMINAL', 'STORAGE FACILITY', 'VIDEO STORE',\n",
       "       'TAXI (YELLOW LICENSED)', 'TAXI/LIVERY (UNLICENSED)',\n",
       "       'OTHER HOUSE OF WORSHIP', 'PHOTO/COPY', 'MOSQUE', 'LOAN COMPANY',\n",
       "       'CEMETERY', 'TRAMWAY'], dtype=object)"
      ]
     },
     "execution_count": 4,
     "metadata": {},
     "output_type": "execute_result"
    }
   ],
   "source": [
    "nyc_crime_data['PREM_TYP_DESC'].unique()"
   ]
  },
  {
   "cell_type": "code",
   "execution_count": 5,
   "metadata": {},
   "outputs": [
    {
     "data": {
      "text/plain": [
       "array([nan, 'MADISON SQUARE PARK', 'COLUMBUS PARK AT MANHATTAN', ...,\n",
       "       'ARSENAL NORTH', 'MADISON SQUARE GARDEN ASSOCIATION',\n",
       "       'BROAD CHANNEL PARK'], dtype=object)"
      ]
     },
     "execution_count": 5,
     "metadata": {},
     "output_type": "execute_result"
    }
   ],
   "source": [
    "nyc_crime_data['PARKS_NM'].unique() # NOT MUCH DATA"
   ]
  },
  {
   "cell_type": "code",
   "execution_count": 6,
   "metadata": {},
   "outputs": [
    {
     "data": {
      "text/plain": [
       "array([nan, 'MARCY', 'UNION AVENUE-EAST 166TH STREET', 'MORRIS I',\n",
       "       'FARRAGUT', 'LA GUARDIA', 'BORINQUEN PLAZA I', 'REDFERN',\n",
       "       'BOSTON SECOR', 'RED HOOK WEST', 'RICHMOND TERRACE', 'LINDEN',\n",
       "       'STAPLETON', '830 AMSTERDAM AVENUE', 'SOUNDVIEW', 'WOODSIDE',\n",
       "       'BARUCH', 'BEDFORD-STUYVESANT REHAB', 'RUTGERS', 'CASTLE HILL',\n",
       "       'TOMPKINS', 'WILLIAMSBURG', 'BUSHWICK II (GROUPS B & D)',\n",
       "       'GUN HILL', 'BELMONT-SUTTER AREA', 'BUTLER', 'GRANT', 'GLENWOOD',\n",
       "       'DOUGLASS', 'THROGGS NECK', 'SOUTH BEACH', 'JACKSON', 'VAN DYKE I',\n",
       "       'EASTCHESTER GARDENS', 'WEEKSVILLE GARDENS',\n",
       "       'ATLANTIC TERMINAL SITE 4B', '1471 WATSON AVENUE', 'FOREST',\n",
       "       'WILLIAMS PLAZA', '303 VERNON AVENUE',\n",
       "       'WEST TREMONT REHAB (GROUP 3)', 'BAY VIEW', \"MARINER'S HARBOR\",\n",
       "       'HIGHBRIDGE GARDENS', 'GOWANUS', 'DOUGLASS ADDITION',\n",
       "       'BUSHWICK II CDA (GROUP E)', 'LATIMER GARDENS',\n",
       "       'CLAREMONT PARKWAY-FRANKLIN AVENUE', 'MACOMBS ROAD',\n",
       "       'WSUR (SITE C) 589 AMSTERDAM AVENUE', 'VLADECK II', 'TILDEN',\n",
       "       'MORRIS II', 'SMITH', 'QUEENSBRIDGE SOUTH', 'MITCHEL',\n",
       "       'MARBLE HILL', 'BORINQUEN PLAZA II', 'MONROE', 'BOULEVARD',\n",
       "       'CONEY ISLAND', 'MELROSE', 'FORT INDEPENDENCE STREET-HEATH AVENUE',\n",
       "       'STERLING PLACE REHAB (SAINT JOHNS-STERLING)', 'SHEEPSHEAD BAY',\n",
       "       'FENIMORE-LEFFERTS', 'PENNSYLVANIA AVENUE-WORTMAN AVENUE',\n",
       "       'CYPRESS HILLS', 'UNITY PLAZA (SITES 4-27)', 'WEST BRIGHTON I',\n",
       "       'MILL BROOK', 'WALD', 'PELHAM PARKWAY',\n",
       "       'UNITY PLAZA (SITES 17,24,25A)', 'ROOSEVELT I', 'ALBANY',\n",
       "       'VANDALIA AVENUE', 'UPACA (SITE 5)', 'MURPHY', 'MARLBORO',\n",
       "       'MANHATTANVILLE', 'QUEENSBRIDGE NORTH', 'MOTT HAVEN',\n",
       "       'LENOX ROAD-ROCKAWAY PARKWAY', 'POMONOK', 'SUMNER', 'BRONXDALE',\n",
       "       'HAMMEL', 'STUYVESANT GARDENS I', 'MORRISANIA', 'RIIS II',\n",
       "       'LOW HOUSES', 'HOE AVENUE-EAST 173RD STREET', 'INGERSOLL',\n",
       "       'THROGGS NECK ADDITION', 'FIORENTINO PLAZA', 'PINK', 'WEBSTER',\n",
       "       'MARKHAM GARDENS', 'BOYNTON AVENUE REHAB', 'ROOSEVELT II',\n",
       "       'HARLEM RIVER', 'AMSTERDAM', 'JOHNSON', 'TAFT', 'DAVIDSON',\n",
       "       'LONG ISLAND BAPTIST HOUSES', 'WHITMAN', 'TODT HILL',\n",
       "       \"O'DWYER GARDENS\", 'CLINTON', 'LINCOLN', 'RED HOOK EAST',\n",
       "       'GOMPERS', 'COOPER PARK', 'BAYSIDE-OCEAN BAY APTS', 'BREUKELEN',\n",
       "       'ARMSTRONG II', \"SAINT MARY'S PARK\", 'BREVOORT', 'MCKINLEY',\n",
       "       'HOWARD', 'CARLETON MANOR', 'WAGNER', 'TWO BRIDGES URA (SITE 7)',\n",
       "       'ADAMS', 'LAFAYETTE', 'MOORE', 'LONGFELLOW AVENUE REHAB',\n",
       "       'ASTORIA', 'VLADECK', 'GRAMPION', 'HOWARD AVENUE', 'RIIS',\n",
       "       'ARMSTRONG I', 'BERRY', 'ALBANY II',\n",
       "       'EAST 173RD STREET-VYSE AVENUE', 'NOSTRAND', 'HUGHES APARTMENTS',\n",
       "       'BETANCES III', 'TAPSCOTT STREET REHAB',\n",
       "       'BRYANT AVENUE-EAST 174TH STREET', 'BETANCES I', 'BETHUNE GARDENS',\n",
       "       'BERRY STREET-SOUTH 9TH STREET', 'RANGEL', 'DYCKMAN',\n",
       "       'OCEANSIDE-OCEAN BAY APTS', 'BAILEY AVENUE-WEST 193RD STREET',\n",
       "       'BRONX RIVER', 'BUSHWICK', 'MARCY AVENUE-GREENE AVENUE SITE A',\n",
       "       'LEHMAN', 'BROWNSVILLE', 'AUDUBON', '33-35 SARATOGA AVENUE',\n",
       "       'PATTERSON', 'WEST FARMS ROAD REHAB', 'CLAREMONT REHAB (GROUP 3)',\n",
       "       'CONEY ISLAND I (SITE 1B)', 'RANDALL AVENUE-BALCOM AVENUE',\n",
       "       'STERLING PLACE REHAB (STERLING-BUFFALO)',\n",
       "       'TWIN PARKS EAST (SITE 9)', 'MORRISANIA AIR RIGHTS 42', 'HYLAN',\n",
       "       'SOUTHERN BOULEVARD', 'BETANCES VI', 'CLASON POINT GARDENS',\n",
       "       'EAST 180TH STREET-MONTEREY AVENUE', 'RALPH AVENUE REHAB',\n",
       "       'TWIN PARKS WEST (SITE 1 & 2)', 'SACK WERN',\n",
       "       'BUSHWICK II (GROUPS A & C)', 'UNIVERSITY AVENUE REHAB',\n",
       "       'SEWARD PARK EXTENSION', 'INDEPENDENCE',\n",
       "       'HOWARD AVENUE-PARK PLACE', 'WEST BRIGHTON II', 'NEW LANE AREA',\n",
       "       'EAST NEW YORK CITY LINE', 'BEACH 41ST STREET-BEACH CHANNEL DRIVE',\n",
       "       'PARKSIDE', 'CARVER', '1162-1176 WASHINGTON AVENUE',\n",
       "       '131 SAINT NICHOLAS AVENUE', '572 WARREN STREET',\n",
       "       'TELLER AVENUE-EAST 166TH STREET', 'LEXINGTON', 'KING TOWERS',\n",
       "       'HIGHBRIDGE REHABS (NELSON AVENUE)',\n",
       "       'MARCY AVENUE-GREENE AVENUE SITE B', 'OCEAN HILL-BROWNSVILLE',\n",
       "       'WYCKOFF GARDENS', 'EDENWALD', 'WOODSON', 'MILL BROOK EXTENSION',\n",
       "       'BAISLEY PARK', 'COLLEGE AVENUE-EAST 165TH STREET',\n",
       "       'GLEBE AVENUE-WESTCHESTER AVENUE', 'CASSIDY-LAFAYETTE',\n",
       "       'CAMPOS PLAZA I', 'PARK ROCK REHAB', 'BOSTON ROAD PLAZA',\n",
       "       'HOPE GARDENS', 'SEDGWICK', 'CLAREMONT REHAB (GROUP 2)',\n",
       "       'FRANKLIN AVENUE I CONVENTIONAL', 'RUTLAND TOWERS',\n",
       "       'EAST 165TH STREET-BRYANT AVENUE', 'GARVEY (GROUP A)',\n",
       "       'SAMUEL (CITY)', 'FRANKLIN AVENUE III CONVENTIONAL', 'BLAND',\n",
       "       'LAVANBURG HOMES', 'MORRIS HEIGHTS REHAB',\n",
       "       'STEBBINS AVENUE-HEWITT PLACE', 'SUTTER AVENUE-UNION STREET',\n",
       "       'MARSHALL PLAZA', 'TAYLOR STREET-WYTHE AVENUE',\n",
       "       'OCEAN HILL APARTMENTS', 'HARRISON AVENUE REHAB (GROUP A)',\n",
       "       'HARRISON AVENUE REHAB (GROUP B)', 'UPACA (SITE 6)',\n",
       "       'CLAREMONT REHAB (GROUP 5)', 'BROWN',\n",
       "       'LOWER EAST SIDE REHAB (GROUP 5)', 'CLAREMONT REHAB (GROUP 4)',\n",
       "       'CROWN HEIGHTS', 'FIRST HOUSES', 'LOWER EAST SIDE I INFILL',\n",
       "       'GRAVESEND', 'SOUTH BRONX AREA (SITE 402)',\n",
       "       'HIGHBRIDGE REHABS (ANDERSON AVENUE)',\n",
       "       'TAFT REHABS (REHAB PROGRAM)', '45 ALLEN STREET',\n",
       "       'WEST TREMONT AVENUE-SEDGWICK AVENUE AREA', 'REID APARTMENTS',\n",
       "       'UNION AVENUE-EAST 163RD STREET', 'SARATOGA SQUARE',\n",
       "       'EAGLE AVENUE-EAST 163RD STREET', 'BRONX RIVER ADDITION',\n",
       "       'FORT WASHINGTON AVENUE REHAB', 'GLENMORE PLAZA', 'HERNANDEZ',\n",
       "       'VAN DYKE II', 'KINGSBOROUGH 77', 'PALMETTO GARDENS',\n",
       "       'MILBANK-FRAWLEY', 'LOWER EAST SIDE II', 'JENNINGS STREET',\n",
       "       'MANHATTANVILLE REHAB (GROUP 2)', 'LA GUARDIA ADDITION',\n",
       "       'BARUCH HOUSES ADDITION', 'FRANKLIN AVENUE II CONVENTIONAL',\n",
       "       'WEST TREMONT REHAB (GROUP 2)', 'FRANKLIN AVENUE I MHOP',\n",
       "       'WASHINGTON HEIGHTS REHAB PHASE III', 'CAREY GARDENS',\n",
       "       'MIDDLETOWN PLAZA', 'KINGSBOROUGH 73', 'HABER', 'PROSPECT PLAZA',\n",
       "       'WEST TREMONT REHAB (GROUP 1)', 'METRO NORTH REHAB',\n",
       "       'WSUR (SITE B) 74 WEST 92ND STREET', 'FRANKLIN AVENUE II MHOP',\n",
       "       'DE HOSTOS APARTMENTS', 'ROBINSON', 'FRANKLIN AVENUE III MHOP',\n",
       "       'WASHINGTON HEIGHTS REHAB (GROUPS 1&2)', 'FULTON',\n",
       "       '344 EAST 28TH STREET',\n",
       "       'FOREST HILLS COOP (108TH STREET-62ND DRIVE)',\n",
       "       '1010 EAST 178TH STREET', 'BAYCHESTER', 'BRONXCHESTER',\n",
       "       'JEFFERSON', 'STUYVESANT GARDENS II'], dtype=object)"
      ]
     },
     "execution_count": 6,
     "metadata": {},
     "output_type": "execute_result"
    }
   ],
   "source": [
    "nyc_crime_data['HADEVELOPT'].unique()"
   ]
  },
  {
   "cell_type": "code",
   "execution_count": 7,
   "metadata": {},
   "outputs": [
    {
     "data": {
      "text/plain": [
       "array([ 44., 103.,  28., 105.,  13.,  71.,   7.,  46.,  48.,  19.,  41.,\n",
       "        14.,  67.,  17.,  61., 102., 110., 108.,  75.,  73.,  60.,  68.,\n",
       "        79., 121.,  23.,  42., 115.,  52., 122.,   1.,  72., 109.,  24.,\n",
       "        81.,  90., 112.,  43.,  84.,  47.,  77., 101.,  83., 113., 120.,\n",
       "        70.,  69.,  66., 114.,  76.,  63.,  45., 106.,  10.,  78.,   6.,\n",
       "         5.,  94.,  40.,  34.,  32.,  50.,  25., 100.,  18.,  20., 111.,\n",
       "       107.,  30.,  49.,  88.,  26., 123.,   9., 104.,  33.,  62.,  22.,\n",
       "        nan])"
      ]
     },
     "execution_count": 7,
     "metadata": {},
     "output_type": "execute_result"
    }
   ],
   "source": [
    "nyc_crime_data['ADDR_PCT_CD'].unique()"
   ]
  },
  {
   "cell_type": "code",
   "execution_count": 8,
   "metadata": {},
   "outputs": [
    {
     "data": {
      "text/plain": [
       "array(['BRONX', 'QUEENS', 'MANHATTAN', 'BROOKLYN', 'STATEN ISLAND', nan],\n",
       "      dtype=object)"
      ]
     },
     "execution_count": 8,
     "metadata": {},
     "output_type": "execute_result"
    }
   ],
   "source": [
    "nyc_crime_data['BORO_NM'].unique()"
   ]
  },
  {
   "cell_type": "code",
   "execution_count": 9,
   "metadata": {},
   "outputs": [
    {
     "data": {
      "text/plain": [
       "array(['INSIDE', 'OUTSIDE', nan, 'FRONT OF', 'OPPOSITE OF', 'REAR OF',\n",
       "       ' '], dtype=object)"
      ]
     },
     "execution_count": 9,
     "metadata": {},
     "output_type": "execute_result"
    }
   ],
   "source": [
    "nyc_crime_data['LOC_OF_OCCUR_DESC'].unique()"
   ]
  },
  {
   "cell_type": "code",
   "execution_count": 10,
   "metadata": {},
   "outputs": [
    {
     "data": {
      "text/plain": [
       "array(['N.Y. POLICE DEPT', 'N.Y. HOUSING POLICE', 'N.Y. TRANSIT POLICE',\n",
       "       'N.Y. STATE POLICE', 'DEPT OF CORRECTIONS', 'TRI-BORO BRDG TUNNL',\n",
       "       'OTHER', 'PORT AUTHORITY', 'NYC PARKS', 'HEALTH & HOSP CORP',\n",
       "       'METRO NORTH', 'LONG ISLAND RAILRD', 'STATN IS RAPID TRANS',\n",
       "       'N.Y. STATE PARKS', 'NEW YORK CITY SHERIFF OFFICE',\n",
       "       'U.S. PARK POLICE', 'NYS DEPT TAX AND FINANCE', 'AMTRACK',\n",
       "       'CONRAIL', 'POLICE DEPT NYC', 'FIRE DEPT (FIRE MARSHAL)',\n",
       "       'NYC DEPT ENVIRONMENTAL PROTECTION', 'SEA GATE POLICE DEPT',\n",
       "       'DISTRICT ATTORNEY OFFICE', 'NYS DEPT ENVIRONMENTAL CONSERVATION'],\n",
       "      dtype=object)"
      ]
     },
     "execution_count": 10,
     "metadata": {},
     "output_type": "execute_result"
    }
   ],
   "source": [
    "nyc_crime_data['JURIS_DESC'].unique()"
   ]
  },
  {
   "cell_type": "code",
   "execution_count": 11,
   "metadata": {},
   "outputs": [
    {
     "data": {
      "text/plain": [
       "array(['COMPLETED', 'ATTEMPTED', nan], dtype=object)"
      ]
     },
     "execution_count": 11,
     "metadata": {},
     "output_type": "execute_result"
    }
   ],
   "source": [
    "nyc_crime_data['CRM_ATPT_CPTD_CD'].unique()"
   ]
  },
  {
   "cell_type": "code",
   "execution_count": 12,
   "metadata": {},
   "outputs": [
    {
     "data": {
      "text/plain": [
       "array(['FELONY', 'MISDEMEANOR', 'VIOLATION'], dtype=object)"
      ]
     },
     "execution_count": 12,
     "metadata": {},
     "output_type": "execute_result"
    }
   ],
   "source": [
    "nyc_crime_data['LAW_CAT_CD'].unique()"
   ]
  },
  {
   "cell_type": "code",
   "execution_count": 13,
   "metadata": {},
   "outputs": [
    {
     "data": {
      "text/plain": [
       "Index(['CMPLNT_NUM', 'CMPLNT_FR_DT', 'CMPLNT_FR_TM', 'CMPLNT_TO_DT',\n",
       "       'CMPLNT_TO_TM', 'RPT_DT', 'KY_CD', 'OFNS_DESC', 'PD_CD', 'PD_DESC',\n",
       "       'CRM_ATPT_CPTD_CD', 'LAW_CAT_CD', 'JURIS_DESC', 'BORO_NM',\n",
       "       'ADDR_PCT_CD', 'LOC_OF_OCCUR_DESC', 'PREM_TYP_DESC', 'PARKS_NM',\n",
       "       'HADEVELOPT', 'X_COORD_CD', 'Y_COORD_CD', 'Latitude', 'Longitude',\n",
       "       'Lat_Lon'],\n",
       "      dtype='object')"
      ]
     },
     "execution_count": 13,
     "metadata": {},
     "output_type": "execute_result"
    }
   ],
   "source": [
    "nyc_crime_data.columns"
   ]
  },
  {
   "cell_type": "code",
   "execution_count": 14,
   "metadata": {},
   "outputs": [
    {
     "data": {
      "text/plain": [
       "ASSAULT 3                                                 522223\n",
       "HARASSMENT,SUBD 3,4,5                                     462080\n",
       "AGGRAVATED HARASSMENT 2                                   322932\n",
       "HARASSMENT,SUBD 1,CIVILIAN                                274407\n",
       "LARCENY,PETIT FROM STORE-SHOPL                            270909\n",
       "LARCENY,PETIT FROM BUILDING,UN                            260356\n",
       "MISCHIEF, CRIMINAL 4, OF MOTOR                            218095\n",
       "LARCENY,PETIT FROM AUTO                                   202688\n",
       "MARIJUANA, POSSESSION 4 & 5                               193923\n",
       "ASSAULT 2,1,UNCLASSIFIED                                  185940\n",
       "CRIMINAL MISCHIEF,UNCLASSIFIED 4                          172093\n",
       "LARCENY,GRAND FROM BUILDING (NON-RESIDENCE) UNATTENDED    128622\n",
       "CONTROLLED SUBSTANCE, POSSESSI                            116487\n",
       "CRIMINAL MISCHIEF 4TH, GRAFFIT                            111144\n",
       "ROBBERY,OPEN AREA UNCLASSIFIED                            106659\n",
       "LARCENY,GRAND OF AUTO                                     101776\n",
       "LARCENY,PETIT FROM OPEN AREAS,                             91956\n",
       "BURGLARY,RESIDENCE,DAY                                     90260\n",
       "INTOXICATED DRIVING,ALCOHOL                                84575\n",
       "MENACING,UNCLASSIFIED                                      84512\n",
       "WEAPONS, POSSESSION, ETC                                   82497\n",
       "CRIMINAL CONTEMPT 1                                        69794\n",
       "TRESPASS 2, CRIMINAL                                       66147\n",
       "FRAUD,UNCLASSIFIED-FELONY                                  63691\n",
       "LARCENY,GRAND FROM VEHICLE/MOTORCYCLE                      58391\n",
       "LEAVING SCENE-ACCIDENT-PERSONA                             51614\n",
       "FORGERY,ETC.,UNCLASSIFIED-FELO                             51414\n",
       "LARCENY,GRAND FROM PERSON,UNCL                             51130\n",
       "WEAPONS POSSESSION 3                                       48720\n",
       "LARCENY,GRAND BY THEFT OF CREDIT CARD                      46808\n",
       "                                                           ...  \n",
       "LARCENY,PETIT OF TRUCK                                         5\n",
       "FAC. SEXUAL OFFENSE W/CONTROLL                                 4\n",
       "LARCENY,GRAND FROM PARKING MET                                 4\n",
       "PROMOTING SUICIDE ATTEMPT                                      4\n",
       "MARRIAGE,OFFENSES AGAINST,UNCL                                 3\n",
       "PROSTITUTION 1, UNDER 11                                       3\n",
       "SALE SCHOOL GROUNDS                                            3\n",
       "UNDER THE INFLUENCE OF DRUGS                                   3\n",
       "CHILD,LICENSED PREMISES                                        3\n",
       "FIREWORKS PREV CONV 5 YEARS                                    3\n",
       "AIRPOLLUTION                                                   3\n",
       "DISSEMINATING A FALSE SEX OFFEND                               3\n",
       "SODOMY,CONSENSUAL                                              3\n",
       "POSSESS PARAPHERNALIA/ANIMAL FIGHTING                          3\n",
       "ATTEND/SPECTATOR ANIMAL FIGHTING                               3\n",
       "NAVIGATION LAW                                                 2\n",
       "WEAPONS,PROHIBITED USE IMITATI                                 2\n",
       "LABOR TRAFFICKING                                              2\n",
       "LOITERING,SCHOOL                                               2\n",
       "AIR POLLUTION-MOTOR VEH (ADM C                                 2\n",
       "EDUCATION LAW, TRUANCY                                         2\n",
       "ENVIRONMENTAL CONTROL BOARD                                    1\n",
       "EDUCATION LAW,STREET TRADE                                     1\n",
       "SMOKING TRANSPORTATION FACILIT                                 1\n",
       "ABORTIONAL ARTICLES,ISSUING                                    1\n",
       "ANARCHY,CRIMINAL                                               1\n",
       "USE CHILD TO COMMIT CONT SUB OFF                               1\n",
       "PUBLIC HEALTH LAW,GLUE,INHALAT                                 1\n",
       "ABORTION 2, 1, SELF                                            1\n",
       "HIND PROSEC. TERR 2                                            1\n",
       "Name: PD_DESC, Length: 413, dtype: int64"
      ]
     },
     "execution_count": 14,
     "metadata": {},
     "output_type": "execute_result"
    }
   ],
   "source": [
    "nyc_crime_data['PD_DESC'].value_counts()"
   ]
  },
  {
   "cell_type": "code",
   "execution_count": 15,
   "metadata": {},
   "outputs": [],
   "source": [
    "# nyc_crime_data['PD_CD'].unique()"
   ]
  },
  {
   "cell_type": "code",
   "execution_count": 16,
   "metadata": {},
   "outputs": [
    {
     "data": {
      "text/plain": [
       "PETIT LARCENY                           987326\n",
       "HARRASSMENT 2                           736479\n",
       "ASSAULT 3 & RELATED OFFENSES            625624\n",
       "CRIMINAL MISCHIEF & RELATED OF          603977\n",
       "GRAND LARCENY                           516544\n",
       "DANGEROUS DRUGS                         392992\n",
       "OFF. AGNST PUB ORD SENSBLTY &           327716\n",
       "ROBBERY                                 228220\n",
       "FELONY ASSAULT                          224921\n",
       "BURGLARY                                216439\n",
       "MISCELLANEOUS PENAL LAW                 145888\n",
       "DANGEROUS WEAPONS                       143395\n",
       "OFFENSES AGAINST PUBLIC ADMINI          117062\n",
       "GRAND LARCENY OF MOTOR VEHICLE          114071\n",
       "INTOXICATED & IMPAIRED DRIVING           85349\n",
       "CRIMINAL TRESPASS                        74083\n",
       "VEHICLE AND TRAFFIC LAWS                 72173\n",
       "SEX CRIMES                               68020\n",
       "THEFT-FRAUD                              66184\n",
       "FORGERY                                  61024\n",
       "FRAUDS                                   38308\n",
       "POSSESSION OF STOLEN PROPERTY            33169\n",
       "OFFENSES INVOLVING FRAUD                 20143\n",
       "UNAUTHORIZED USE OF A VEHICLE            17301\n",
       "RAPE                                     16673\n",
       "ARSON                                    15439\n",
       "OFFENSES AGAINST THE PERSON              14914\n",
       "ADMINISTRATIVE CODE                      13274\n",
       "OTHER OFFENSES RELATED TO THEF           12962\n",
       "OTHER STATE LAWS (NON PENAL LA            6075\n",
       "                                         ...  \n",
       "ALCOHOLIC BEVERAGE CONTROL LAW             994\n",
       "DISORDERLY CONDUCT                         932\n",
       "OFFENSES AGAINST PUBLIC SAFETY             913\n",
       "CHILD ABANDONMENT/NON SUPPORT              406\n",
       "JOSTLING                                   386\n",
       "AGRICULTURE & MRKTS LAW-UNCLASSIFIED       347\n",
       "OTHER STATE LAWS                           264\n",
       "LOITERING/GAMBLING (CARDS, DIC             234\n",
       "ENDAN WELFARE INCOMP                       203\n",
       "ESCAPE 3                                   185\n",
       "ANTICIPATORY OFFENSES                      102\n",
       "HOMICIDE-NEGLIGENT-VEHICLE                  97\n",
       "NEW YORK CITY HEALTH CODE                   85\n",
       "UNLAWFUL POSS. WEAP. ON SCHOOL              64\n",
       "HOMICIDE-NEGLIGENT,UNCLASSIFIE              52\n",
       "DISRUPTION OF A RELIGIOUS SERV              51\n",
       "INTOXICATED/IMPAIRED DRIVING                50\n",
       "NYS LAWS-UNCLASSIFIED VIOLATION             26\n",
       "LOITERING                                   23\n",
       "LOITERING FOR DRUG PURPOSES                 23\n",
       "KIDNAPPING                                  21\n",
       "ADMINISTRATIVE CODES                        19\n",
       "LOITERING/DEVIATE SEX                       16\n",
       "OTHER TRAFFIC INFRACTION                    13\n",
       "FORTUNE TELLING                             11\n",
       "OTHER STATE LAWS (NON PENAL LAW)            10\n",
       "ABORTION                                     5\n",
       "UNDER THE INFLUENCE OF DRUGS                 3\n",
       "OFFENSES AGAINST MARRIAGE UNCL               3\n",
       "KIDNAPPING AND RELATED OFFENSES              2\n",
       "Name: OFNS_DESC, Length: 70, dtype: int64"
      ]
     },
     "execution_count": 16,
     "metadata": {},
     "output_type": "execute_result"
    }
   ],
   "source": [
    "nyc_crime_data['OFNS_DESC'].value_counts()"
   ]
  },
  {
   "cell_type": "code",
   "execution_count": 17,
   "metadata": {},
   "outputs": [],
   "source": [
    "# nyc_crime_data['KY_CD'].unique()"
   ]
  },
  {
   "cell_type": "code",
   "execution_count": 18,
   "metadata": {},
   "outputs": [
    {
     "data": {
      "text/plain": [
       "array(['12/31/2015', '12/21/2015', '12/14/2015', ..., '01/09/2017',\n",
       "       '01/08/2017', '01/01/2017'], dtype=object)"
      ]
     },
     "execution_count": 18,
     "metadata": {},
     "output_type": "execute_result"
    }
   ],
   "source": [
    "nyc_crime_data['RPT_DT'].unique()"
   ]
  },
  {
   "cell_type": "code",
   "execution_count": 19,
   "metadata": {},
   "outputs": [],
   "source": [
    "yr=nyc_crime_data['CMPLNT_FR_DT'].str.split('/',expand=True)"
   ]
  },
  {
   "cell_type": "code",
   "execution_count": 21,
   "metadata": {},
   "outputs": [
    {
     "data": {
      "text/html": [
       "<div>\n",
       "<style scoped>\n",
       "    .dataframe tbody tr th:only-of-type {\n",
       "        vertical-align: middle;\n",
       "    }\n",
       "\n",
       "    .dataframe tbody tr th {\n",
       "        vertical-align: top;\n",
       "    }\n",
       "\n",
       "    .dataframe thead th {\n",
       "        text-align: right;\n",
       "    }\n",
       "</style>\n",
       "<table border=\"1\" class=\"dataframe\">\n",
       "  <thead>\n",
       "    <tr style=\"text-align: right;\">\n",
       "      <th></th>\n",
       "      <th>0</th>\n",
       "      <th>1</th>\n",
       "      <th>2</th>\n",
       "    </tr>\n",
       "  </thead>\n",
       "  <tbody>\n",
       "    <tr>\n",
       "      <th>0</th>\n",
       "      <td>12</td>\n",
       "      <td>31</td>\n",
       "      <td>2015</td>\n",
       "    </tr>\n",
       "    <tr>\n",
       "      <th>1</th>\n",
       "      <td>12</td>\n",
       "      <td>31</td>\n",
       "      <td>2015</td>\n",
       "    </tr>\n",
       "    <tr>\n",
       "      <th>2</th>\n",
       "      <td>12</td>\n",
       "      <td>31</td>\n",
       "      <td>2015</td>\n",
       "    </tr>\n",
       "    <tr>\n",
       "      <th>3</th>\n",
       "      <td>12</td>\n",
       "      <td>31</td>\n",
       "      <td>2015</td>\n",
       "    </tr>\n",
       "    <tr>\n",
       "      <th>4</th>\n",
       "      <td>12</td>\n",
       "      <td>31</td>\n",
       "      <td>2015</td>\n",
       "    </tr>\n",
       "  </tbody>\n",
       "</table>\n",
       "</div>"
      ],
      "text/plain": [
       "    0   1     2\n",
       "0  12  31  2015\n",
       "1  12  31  2015\n",
       "2  12  31  2015\n",
       "3  12  31  2015\n",
       "4  12  31  2015"
      ]
     },
     "execution_count": 21,
     "metadata": {},
     "output_type": "execute_result"
    }
   ],
   "source": [
    "yr.head()"
   ]
  }
 ],
 "metadata": {
  "kernelspec": {
   "display_name": "Python 3",
   "language": "python",
   "name": "python3"
  },
  "language_info": {
   "codemirror_mode": {
    "name": "ipython",
    "version": 3
   },
   "file_extension": ".py",
   "mimetype": "text/x-python",
   "name": "python",
   "nbconvert_exporter": "python",
   "pygments_lexer": "ipython3",
   "version": "3.6.5"
  }
 },
 "nbformat": 4,
 "nbformat_minor": 2
}
