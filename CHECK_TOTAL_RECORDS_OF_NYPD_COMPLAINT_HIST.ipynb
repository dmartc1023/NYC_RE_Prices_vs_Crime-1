{
 "cells": [
  {
   "cell_type": "code",
   "execution_count": 1,
   "metadata": {},
   "outputs": [],
   "source": [
    "# Dependencies and Setup\n",
    "%matplotlib inline\n",
    "import matplotlib.pyplot as plt\n",
    "import pandas as pd\n",
    "#import numpy as np\n",
    "#import dateutil\n",
    "# Hide warning messages in notebook\n",
    "import warnings\n",
    "warnings.filterwarnings('ignore')\n",
    "\n",
    "nyc_crime_df=pd.read_csv(\"NYPD_Complaint_Data_Historic.csv\")"
   ]
  },
  {
   "cell_type": "code",
   "execution_count": 2,
   "metadata": {},
   "outputs": [
    {
     "data": {
      "text/plain": [
       "Index(['CMPLNT_NUM', 'CMPLNT_FR_DT', 'CMPLNT_FR_TM', 'CMPLNT_TO_DT',\n",
       "       'CMPLNT_TO_TM', 'RPT_DT', 'KY_CD', 'OFNS_DESC', 'PD_CD', 'PD_DESC',\n",
       "       'CRM_ATPT_CPTD_CD', 'LAW_CAT_CD', 'JURIS_DESC', 'BORO_NM',\n",
       "       'ADDR_PCT_CD', 'LOC_OF_OCCUR_DESC', 'PREM_TYP_DESC', 'PARKS_NM',\n",
       "       'HADEVELOPT', 'X_COORD_CD', 'Y_COORD_CD', 'Latitude', 'Longitude',\n",
       "       'Lat_Lon'],\n",
       "      dtype='object')"
      ]
     },
     "execution_count": 2,
     "metadata": {},
     "output_type": "execute_result"
    }
   ],
   "source": [
    "nyc_crime_df.columns"
   ]
  },
  {
   "cell_type": "code",
   "execution_count": 3,
   "metadata": {},
   "outputs": [
    {
     "data": {
      "text/plain": [
       "array(['BRONX', 'QUEENS', 'MANHATTAN', 'BROOKLYN', 'STATEN ISLAND', nan],\n",
       "      dtype=object)"
      ]
     },
     "execution_count": 3,
     "metadata": {},
     "output_type": "execute_result"
    }
   ],
   "source": [
    "nyc_crime_df['BORO_NM'].unique()"
   ]
  },
  {
   "cell_type": "code",
   "execution_count": null,
   "metadata": {},
   "outputs": [],
   "source": []
  },
  {
   "cell_type": "code",
   "execution_count": 4,
   "metadata": {},
   "outputs": [
    {
     "data": {
      "text/plain": [
       "6048796"
      ]
     },
     "execution_count": 4,
     "metadata": {},
     "output_type": "execute_result"
    }
   ],
   "source": [
    "nyc_crime_df['CMPLNT_NUM'].count()"
   ]
  },
  {
   "cell_type": "code",
   "execution_count": 5,
   "metadata": {},
   "outputs": [
    {
     "data": {
      "text/plain": [
       "6048141"
      ]
     },
     "execution_count": 5,
     "metadata": {},
     "output_type": "execute_result"
    }
   ],
   "source": [
    "nyc_crime_df['CMPLNT_FR_DT'].count()"
   ]
  },
  {
   "cell_type": "code",
   "execution_count": 6,
   "metadata": {},
   "outputs": [],
   "source": [
    "#yr2012=nyc_crime_df[(nyc_crime_df['CMPLNT_FR_DT']<'12/31/2012') & (nyc_crime_df['CMPLNT_FR_DT']>'01/01/2012')]"
   ]
  },
  {
   "cell_type": "code",
   "execution_count": 7,
   "metadata": {},
   "outputs": [],
   "source": [
    "yr=nyc_crime_df['CMPLNT_FR_DT'].str.split('/',expand=True)"
   ]
  },
  {
   "cell_type": "code",
   "execution_count": 8,
   "metadata": {},
   "outputs": [],
   "source": [
    "nyc_crime_df=nyc_crime_df.join(yr)"
   ]
  },
  {
   "cell_type": "code",
   "execution_count": 10,
   "metadata": {},
   "outputs": [],
   "source": [
    "nyc_crime_df_2012=nyc_crime_df[nyc_crime_df[2]=='2012']"
   ]
  },
  {
   "cell_type": "code",
   "execution_count": null,
   "metadata": {},
   "outputs": [],
   "source": [
    "nyc_crime_df_2012[nyc_crime_df_2012['BORO_NM']=='BRONX'].count()"
   ]
  },
  {
   "cell_type": "code",
   "execution_count": null,
   "metadata": {},
   "outputs": [],
   "source": [
    "nyc_crime_dweapon_df=nyc_crime_df[nyc_crime_df['OFNS_DESC']=='DANGEROUS WEAPONS']"
   ]
  },
  {
   "cell_type": "code",
   "execution_count": 11,
   "metadata": {},
   "outputs": [],
   "source": [
    "nyc_crime_dweapon_df_2012_2017=nyc_crime_df[nyc_crime_df[2]>'2011']"
   ]
  },
  {
   "cell_type": "code",
   "execution_count": 12,
   "metadata": {},
   "outputs": [
    {
     "data": {
      "text/plain": [
       "Index([       'CMPLNT_NUM',      'CMPLNT_FR_DT',      'CMPLNT_FR_TM',\n",
       "            'CMPLNT_TO_DT',      'CMPLNT_TO_TM',            'RPT_DT',\n",
       "                   'KY_CD',         'OFNS_DESC',             'PD_CD',\n",
       "                 'PD_DESC',  'CRM_ATPT_CPTD_CD',        'LAW_CAT_CD',\n",
       "              'JURIS_DESC',           'BORO_NM',       'ADDR_PCT_CD',\n",
       "       'LOC_OF_OCCUR_DESC',     'PREM_TYP_DESC',          'PARKS_NM',\n",
       "              'HADEVELOPT',        'X_COORD_CD',        'Y_COORD_CD',\n",
       "                'Latitude',         'Longitude',           'Lat_Lon',\n",
       "                         0,                   1,                   2],\n",
       "      dtype='object')"
      ]
     },
     "execution_count": 12,
     "metadata": {},
     "output_type": "execute_result"
    }
   ],
   "source": [
    "nyc_crime_dweapon_df_2012_2017.columns"
   ]
  },
  {
   "cell_type": "code",
   "execution_count": 13,
   "metadata": {},
   "outputs": [],
   "source": [
    "nyc_crime_descr=nyc_crime_dweapon_df_2012_2017.drop(columns=['CMPLNT_NUM',      'CMPLNT_FR_DT',      'CMPLNT_FR_TM',\n",
    "            'CMPLNT_TO_DT',      'CMPLNT_TO_TM',            'RPT_DT',\n",
    "                   'KY_CD',                      'PD_CD',\n",
    "                 'PD_DESC',  'CRM_ATPT_CPTD_CD',        'LAW_CAT_CD',\n",
    "              'JURIS_DESC',           'BORO_NM',       'ADDR_PCT_CD',\n",
    "       'LOC_OF_OCCUR_DESC',     'PREM_TYP_DESC',          'PARKS_NM',\n",
    "              'HADEVELOPT',        'X_COORD_CD',        'Y_COORD_CD',\n",
    "                'Latitude',         'Longitude',           'Lat_Lon',\n",
    "                         0,                   1                   ])"
   ]
  },
  {
   "cell_type": "code",
   "execution_count": null,
   "metadata": {},
   "outputs": [],
   "source": [
    "# Overall Crime drop in NYC\n",
    "nyc_crime_totals_by_yr=nyc_crime_descr.groupby([2]).count()"
   ]
  },
  {
   "cell_type": "code",
   "execution_count": 28,
   "metadata": {},
   "outputs": [
    {
     "data": {
      "text/plain": [
       "PETIT LARCENY                     83162\n",
       "HARRASSMENT 2                     57021\n",
       "ASSAULT 3 & RELATED OFFENSES      54497\n",
       "CRIMINAL MISCHIEF & RELATED OF    47789\n",
       "GRAND LARCENY                     42961\n",
       "DANGEROUS DRUGS                   34681\n",
       "OFF. AGNST PUB ORD SENSBLTY &     27413\n",
       "ROBBERY                           20173\n",
       "FELONY ASSAULT                    19561\n",
       "BURGLARY                          19311\n",
       "DANGEROUS WEAPONS                 12093\n",
       "MISCELLANEOUS PENAL LAW           12086\n",
       "OFFENSES AGAINST PUBLIC ADMINI    10718\n",
       "GRAND LARCENY OF MOTOR VEHICLE     8068\n",
       "INTOXICATED & IMPAIRED DRIVING     6727\n",
       "THEFT-FRAUD                        6123\n",
       "CRIMINAL TRESPASS                  5795\n",
       "VEHICLE AND TRAFFIC LAWS           5570\n",
       "SEX CRIMES                         5566\n",
       "FORGERY                            3818\n",
       "Name: OFNS_DESC, dtype: int64"
      ]
     },
     "execution_count": 28,
     "metadata": {},
     "output_type": "execute_result"
    }
   ],
   "source": [
    "nyc_crime_descr_2012=nyc_crime_descr[nyc_crime_descr[2]=='2012']\n",
    "nyc_crime_descr_2012['OFNS_DESC'].value_counts().head(20)"
   ]
  },
  {
   "cell_type": "code",
   "execution_count": 29,
   "metadata": {},
   "outputs": [
    {
     "data": {
      "text/plain": [
       "PETIT LARCENY                     85156\n",
       "HARRASSMENT 2                     57638\n",
       "ASSAULT 3 & RELATED OFFENSES      53542\n",
       "GRAND LARCENY                     45496\n",
       "CRIMINAL MISCHIEF & RELATED OF    43895\n",
       "DANGEROUS DRUGS                   29440\n",
       "OFF. AGNST PUB ORD SENSBLTY &     26966\n",
       "FELONY ASSAULT                    20403\n",
       "ROBBERY                           19125\n",
       "BURGLARY                          17421\n",
       "MISCELLANEOUS PENAL LAW           13092\n",
       "DANGEROUS WEAPONS                 11661\n",
       "OFFENSES AGAINST PUBLIC ADMINI    10683\n",
       "INTOXICATED & IMPAIRED DRIVING     8236\n",
       "GRAND LARCENY OF MOTOR VEHICLE     7353\n",
       "VEHICLE AND TRAFFIC LAWS           6087\n",
       "CRIMINAL TRESPASS                  4986\n",
       "THEFT-FRAUD                        4970\n",
       "SEX CRIMES                         4948\n",
       "FORGERY                            4217\n",
       "Name: OFNS_DESC, dtype: int64"
      ]
     },
     "execution_count": 29,
     "metadata": {},
     "output_type": "execute_result"
    }
   ],
   "source": [
    "nyc_crime_descr_2013=nyc_crime_descr[nyc_crime_descr[2]=='2013']\n",
    "nyc_crime_descr_2013['OFNS_DESC'].value_counts().head(20)"
   ]
  },
  {
   "cell_type": "code",
   "execution_count": 30,
   "metadata": {},
   "outputs": [
    {
     "data": {
      "text/plain": [
       "PETIT LARCENY                     85080\n",
       "HARRASSMENT 2                     62025\n",
       "ASSAULT 3 & RELATED OFFENSES      53785\n",
       "CRIMINAL MISCHIEF & RELATED OF    47629\n",
       "GRAND LARCENY                     44271\n",
       "DANGEROUS DRUGS                   28792\n",
       "FELONY ASSAULT                    20247\n",
       "OFF. AGNST PUB ORD SENSBLTY &     19686\n",
       "BURGLARY                          16836\n",
       "ROBBERY                           16573\n",
       "MISCELLANEOUS PENAL LAW           13730\n",
       "DANGEROUS WEAPONS                 10780\n",
       "OFFENSES AGAINST PUBLIC ADMINI    10295\n",
       "INTOXICATED & IMPAIRED DRIVING     7876\n",
       "GRAND LARCENY OF MOTOR VEHICLE     7658\n",
       "VEHICLE AND TRAFFIC LAWS           5839\n",
       "SEX CRIMES                         5173\n",
       "CRIMINAL TRESPASS                  5147\n",
       "FORGERY                            4799\n",
       "THEFT-FRAUD                        4634\n",
       "Name: OFNS_DESC, dtype: int64"
      ]
     },
     "execution_count": 30,
     "metadata": {},
     "output_type": "execute_result"
    }
   ],
   "source": [
    "nyc_crime_descr_2014=nyc_crime_descr[nyc_crime_descr[2]=='2014']\n",
    "nyc_crime_descr_2014['OFNS_DESC'].value_counts().head(20)"
   ]
  },
  {
   "cell_type": "code",
   "execution_count": 31,
   "metadata": {},
   "outputs": [
    {
     "data": {
      "text/plain": [
       "PETIT LARCENY                     81620\n",
       "HARRASSMENT 2                     62250\n",
       "ASSAULT 3 & RELATED OFFENSES      52226\n",
       "CRIMINAL MISCHIEF & RELATED OF    48479\n",
       "GRAND LARCENY                     44080\n",
       "DANGEROUS DRUGS                   23677\n",
       "OFF. AGNST PUB ORD SENSBLTY &     20852\n",
       "FELONY ASSAULT                    20416\n",
       "ROBBERY                           16952\n",
       "BURGLARY                          15151\n",
       "MISCELLANEOUS PENAL LAW           13487\n",
       "DANGEROUS WEAPONS                 10526\n",
       "OFFENSES AGAINST PUBLIC ADMINI     9423\n",
       "GRAND LARCENY OF MOTOR VEHICLE     7320\n",
       "VEHICLE AND TRAFFIC LAWS           6278\n",
       "INTOXICATED & IMPAIRED DRIVING     5933\n",
       "SEX CRIMES                         5502\n",
       "FORGERY                            5231\n",
       "THEFT-FRAUD                        4902\n",
       "CRIMINAL TRESPASS                  4324\n",
       "Name: OFNS_DESC, dtype: int64"
      ]
     },
     "execution_count": 31,
     "metadata": {},
     "output_type": "execute_result"
    }
   ],
   "source": [
    "nyc_crime_descr_2015=nyc_crime_descr[nyc_crime_descr[2]=='2015']\n",
    "nyc_crime_descr_2015['OFNS_DESC'].value_counts().head(20)"
   ]
  },
  {
   "cell_type": "code",
   "execution_count": 33,
   "metadata": {},
   "outputs": [
    {
     "data": {
      "text/plain": [
       "PETIT LARCENY                     81183\n",
       "HARRASSMENT 2                     65807\n",
       "ASSAULT 3 & RELATED OFFENSES      52423\n",
       "CRIMINAL MISCHIEF & RELATED OF    48698\n",
       "GRAND LARCENY                     44091\n",
       "OFF. AGNST PUB ORD SENSBLTY &     22693\n",
       "DANGEROUS DRUGS                   22668\n",
       "FELONY ASSAULT                    20782\n",
       "ROBBERY                           15483\n",
       "MISCELLANEOUS PENAL LAW           13854\n",
       "BURGLARY                          12970\n",
       "DANGEROUS WEAPONS                 10467\n",
       "OFFENSES AGAINST PUBLIC ADMINI     8890\n",
       "VEHICLE AND TRAFFIC LAWS           6573\n",
       "GRAND LARCENY OF MOTOR VEHICLE     6331\n",
       "FORGERY                            6195\n",
       "INTOXICATED & IMPAIRED DRIVING     5957\n",
       "SEX CRIMES                         5893\n",
       "THEFT-FRAUD                        4438\n",
       "CRIMINAL TRESPASS                  3926\n",
       "Name: OFNS_DESC, dtype: int64"
      ]
     },
     "execution_count": 33,
     "metadata": {},
     "output_type": "execute_result"
    }
   ],
   "source": [
    "nyc_crime_descr_2016=nyc_crime_descr[nyc_crime_descr[2]=='2016']\n",
    "nyc_crime_descr_2016['OFNS_DESC'].value_counts().head(20)"
   ]
  },
  {
   "cell_type": "code",
   "execution_count": 19,
   "metadata": {},
   "outputs": [],
   "source": [
    "nyc_crime_descr_2017=nyc_crime_descr[nyc_crime_descr[2]=='2017']"
   ]
  },
  {
   "cell_type": "code",
   "execution_count": 34,
   "metadata": {},
   "outputs": [
    {
     "data": {
      "text/plain": [
       "<matplotlib.axes._subplots.AxesSubplot at 0x11f1109a860>"
      ]
     },
     "execution_count": 34,
     "metadata": {},
     "output_type": "execute_result"
    },
    {
     "data": {
      "image/png": "[encoded data removed]",
      "text/plain": [
       "<Figure size 432x288 with 1 Axes>"
      ]
     },
     "metadata": {},
     "output_type": "display_data"
    }
   ],
   "source": [
    "nyc_crime_descr_2017['OFNS_DESC'].value_counts().head(20).plot.bar()"
   ]
  },
  {
   "cell_type": "code",
   "execution_count": 38,
   "metadata": {},
   "outputs": [],
   "source": [
    "nyc_crime_descr_5YR_diff=nyc_crime_descr_2017['OFNS_DESC'].value_counts()-nyc_crime_descr_2012['OFNS_DESC'].value_counts()"
   ]
  },
  {
   "cell_type": "code",
   "execution_count": 42,
   "metadata": {},
   "outputs": [
    {
     "data": {
      "text/plain": [
       "DANGEROUS DRUGS                    -12874.0\n",
       "BURGLARY                            -7415.0\n",
       "OFF. AGNST PUB ORD SENSBLTY &       -6318.0\n",
       "ROBBERY                             -6255.0\n",
       "DANGEROUS WEAPONS                   -3428.0\n",
       "ASSAULT 3 & RELATED OFFENSES        -3220.0\n",
       "OFFENSES AGAINST PUBLIC ADMINI      -2781.0\n",
       "GRAND LARCENY OF MOTOR VEHICLE      -2474.0\n",
       "THEFT-FRAUD                         -2316.0\n",
       "GRAND LARCENY                       -2278.0\n",
       "CRIMINAL TRESPASS                   -2196.0\n",
       "POSSESSION OF STOLEN PROPERTY       -1425.0\n",
       "PETIT LARCENY                       -1144.0\n",
       "INTOXICATED & IMPAIRED DRIVING      -1080.0\n",
       "FRAUDS                               -963.0\n",
       "ARSON                                -596.0\n",
       "OFFENSES INVOLVING FRAUD             -525.0\n",
       "THEFT OF SERVICES                    -351.0\n",
       "ADMINISTRATIVE CODE                  -280.0\n",
       "RAPE                                 -234.0\n",
       "MURDER & NON-NEGL. MANSLAUGHTER      -146.0\n",
       "OTHER STATE LAWS (NON PENAL LA       -130.0\n",
       "OFFENSES RELATED TO CHILDREN         -121.0\n",
       "FRAUDULENT ACCOSTING                 -111.0\n",
       "KIDNAPPING & RELATED OFFENSES         -72.0\n",
       "DISORDERLY CONDUCT                    -69.0\n",
       "OFFENSES AGAINST PUBLIC SAFETY        -58.0\n",
       "BURGLAR'S TOOLS                       -35.0\n",
       "PROSTITUTION & RELATED OFFENSES       -26.0\n",
       "PETIT LARCENY OF MOTOR VEHICLE        -12.0\n",
       "HOMICIDE-NEGLIGENT-VEHICLE            -10.0\n",
       "JOSTLING                               -9.0\n",
       "OTHER STATE LAWS                       -8.0\n",
       "CHILD ABANDONMENT/NON SUPPORT          -7.0\n",
       "INTOXICATED/IMPAIRED DRIVING           -4.0\n",
       "UNLAWFUL POSS. WEAP. ON SCHOOL         -3.0\n",
       "DISRUPTION OF A RELIGIOUS SERV         -3.0\n",
       "ANTICIPATORY OFFENSES                  -3.0\n",
       "OTHER STATE LAWS (NON PENAL LAW)       -2.0\n",
       "LOITERING                              -1.0\n",
       "ESCAPE 3                               -1.0\n",
       "NEW YORK CITY HEALTH CODE               5.0\n",
       "LOITERING/GAMBLING (CARDS, DIC          8.0\n",
       "ENDAN WELFARE INCOMP                    9.0\n",
       "HOMICIDE-NEGLIGENT,UNCLASSIFIE         11.0\n",
       "GAMBLING                               55.0\n",
       "ALCOHOLIC BEVERAGE CONTROL LAW         56.0\n",
       "OFFENSES AGAINST THE PERSON            87.0\n",
       "UNAUTHORIZED USE OF A VEHICLE         141.0\n",
       "NYS LAWS-UNCLASSIFIED FELONY          252.0\n",
       "FELONY ASSAULT                        314.0\n",
       "SEX CRIMES                            318.0\n",
       "OTHER OFFENSES RELATED TO THEF        421.0\n",
       "CRIMINAL MISCHIEF & RELATED OF        725.0\n",
       "VEHICLE AND TRAFFIC LAWS              865.0\n",
       "MISCELLANEOUS PENAL LAW               986.0\n",
       "FORGERY                              1362.0\n",
       "HARRASSMENT 2                        8400.0\n",
       "Name: OFNS_DESC, dtype: float64"
      ]
     },
     "execution_count": 42,
     "metadata": {},
     "output_type": "execute_result"
    }
   ],
   "source": [
    "nyc_crime_descr_diff.dropna().sort_values()"
   ]
  },
  {
   "cell_type": "code",
   "execution_count": 43,
   "metadata": {},
   "outputs": [
    {
     "data": {
      "text/plain": [
       "PETIT LARCENY                     82018\n",
       "HARRASSMENT 2                     65421\n",
       "ASSAULT 3 & RELATED OFFENSES      51277\n",
       "CRIMINAL MISCHIEF & RELATED OF    48514\n",
       "GRAND LARCENY                     40683\n",
       "DANGEROUS DRUGS                   21807\n",
       "OFF. AGNST PUB ORD SENSBLTY &     21095\n",
       "FELONY ASSAULT                    19875\n",
       "ROBBERY                           13918\n",
       "MISCELLANEOUS PENAL LAW           13072\n",
       "BURGLARY                          11896\n",
       "DANGEROUS WEAPONS                  8665\n",
       "OFFENSES AGAINST PUBLIC ADMINI     7937\n",
       "VEHICLE AND TRAFFIC LAWS           6435\n",
       "SEX CRIMES                         5884\n",
       "INTOXICATED & IMPAIRED DRIVING     5647\n",
       "GRAND LARCENY OF MOTOR VEHICLE     5594\n",
       "FORGERY                            5180\n",
       "THEFT-FRAUD                        3807\n",
       "CRIMINAL TRESPASS                  3599\n",
       "Name: OFNS_DESC, dtype: int64"
      ]
     },
     "execution_count": 43,
     "metadata": {},
     "output_type": "execute_result"
    }
   ],
   "source": [
    "nyc_crime_descr_2017['OFNS_DESC'].value_counts().head(20)"
   ]
  }
 ],
 "metadata": {
  "kernelspec": {
   "display_name": "Python 3",
   "language": "python",
   "name": "python3"
  },
  "language_info": {
   "codemirror_mode": {
    "name": "ipython",
    "version": 3
   },
   "file_extension": ".py",
   "mimetype": "text/x-python",
   "name": "python",
   "nbconvert_exporter": "python",
   "pygments_lexer": "ipython3",
   "version": "3.6.5"
  }
 },
 "nbformat": 4,
 "nbformat_minor": 2
}
