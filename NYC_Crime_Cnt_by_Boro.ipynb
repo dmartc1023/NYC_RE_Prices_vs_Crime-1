{
 "cells": [
  {
   "cell_type": "code",
   "execution_count": 1,
   "metadata": {},
   "outputs": [],
   "source": [
    "# Dependencies and Setup\n",
    "%matplotlib inline\n",
    "import matplotlib.pyplot as plt\n",
    "import pandas as pd\n",
    "import numpy as np\n",
    "import dateutil\n",
    "\n",
    "# this code written by Paul AG\n",
    "# Hide warning messages in notebook\n",
    "import warnings\n",
    "warnings.filterwarnings('ignore')\n",
    "\n",
    "\n",
    "# File to Load (Remember to Change These)\n",
    "#nyc_zillow_load = \"\\\\Users\\\\Paul-DS\\\\Downloads\\\\Neighborhood_MedianValuePerSqft_AllHomes.csv\"\n",
    "nyc_crime_load=\"NYPD_Complaint_Data_Historic.csv\"\n",
    "\n",
    "#nyc_zillow_data=pd.read_csv(nyc_zillow_load, low_memory=True)\n",
    "nyc_crime_data=pd.read_csv(nyc_crime_load)\n",
    "\n",
    "boro=['Manhattan', 'Bronx', 'Brooklyn', 'Queens', 'Staten Island']\n",
    "# Kings is synomous with Brooklyn (same land mass)\n",
    "county=['New York', 'Bronx', 'Kings', 'Queens', 'Richmond']\n"
   ]
  },
  {
   "cell_type": "code",
   "execution_count": 2,
   "metadata": {},
   "outputs": [],
   "source": [
    "# change date value type STEP 1\n",
    "nyc_crime_data['RPT_DT'] = nyc_crime_data['RPT_DT'].apply(dateutil.parser.parse, dayfirst=False)"
   ]
  },
  {
   "cell_type": "code",
   "execution_count": 3,
   "metadata": {},
   "outputs": [],
   "source": [
    "# change date value type STEP 2 (final)\n",
    "nyc_crime_data['YR_M'] = nyc_crime_data['RPT_DT'].dt.strftime('%Y-%m')"
   ]
  },
  {
   "cell_type": "code",
   "execution_count": 4,
   "metadata": {},
   "outputs": [],
   "source": [
    "manhattan_crime_cnt = nyc_crime_data[nyc_crime_data['BORO_NM']=='MANHATTAN'].drop(columns=['CMPLNT_NUM', 'CMPLNT_FR_DT', 'CMPLNT_FR_TM', 'CMPLNT_TO_DT',\n",
    "       'CMPLNT_TO_TM', 'RPT_DT','OFNS_DESC', 'PD_CD', 'PD_DESC',\n",
    "       'CRM_ATPT_CPTD_CD', 'LAW_CAT_CD', 'JURIS_DESC', 'BORO_NM',\n",
    "       'ADDR_PCT_CD', 'LOC_OF_OCCUR_DESC', 'PREM_TYP_DESC', 'PARKS_NM',\n",
    "       'HADEVELOPT', 'X_COORD_CD', 'Y_COORD_CD', 'Latitude', 'Longitude',\n",
    "       'Lat_Lon']).groupby(['YR_M']).count()"
   ]
  },
  {
   "cell_type": "code",
   "execution_count": 5,
   "metadata": {},
   "outputs": [],
   "source": [
    "brooklyn_crime_cnt = nyc_crime_data[nyc_crime_data['BORO_NM']=='BROOKLYN'].drop(columns=['CMPLNT_NUM', 'CMPLNT_FR_DT', 'CMPLNT_FR_TM', 'CMPLNT_TO_DT',\n",
    "       'CMPLNT_TO_TM', 'RPT_DT','OFNS_DESC', 'PD_CD', 'PD_DESC',\n",
    "       'CRM_ATPT_CPTD_CD', 'LAW_CAT_CD', 'JURIS_DESC', 'BORO_NM',\n",
    "       'ADDR_PCT_CD', 'LOC_OF_OCCUR_DESC', 'PREM_TYP_DESC', 'PARKS_NM',\n",
    "       'HADEVELOPT', 'X_COORD_CD', 'Y_COORD_CD', 'Latitude', 'Longitude',\n",
    "       'Lat_Lon']).groupby(['YR_M']).count()"
   ]
  },
  {
   "cell_type": "code",
   "execution_count": 6,
   "metadata": {},
   "outputs": [],
   "source": [
    "queens_crime_cnt = nyc_crime_data[nyc_crime_data[\"BORO_NM\"]==\"QUEENS\"].drop(columns=['CMPLNT_NUM', 'CMPLNT_FR_DT', 'CMPLNT_FR_TM', 'CMPLNT_TO_DT',\n",
    "       'CMPLNT_TO_TM', 'RPT_DT','OFNS_DESC', 'PD_CD', 'PD_DESC',\n",
    "       'CRM_ATPT_CPTD_CD', 'LAW_CAT_CD', 'JURIS_DESC', 'BORO_NM',\n",
    "       'ADDR_PCT_CD', 'LOC_OF_OCCUR_DESC', 'PREM_TYP_DESC', 'PARKS_NM',\n",
    "       'HADEVELOPT', 'X_COORD_CD', 'Y_COORD_CD', 'Latitude', 'Longitude',\n",
    "       'Lat_Lon']).groupby(['YR_M']).count()"
   ]
  },
  {
   "cell_type": "code",
   "execution_count": 7,
   "metadata": {},
   "outputs": [],
   "source": [
    "bronx_crime_cnt = nyc_crime_data[nyc_crime_data[\"BORO_NM\"]==\"BRONX\"].drop(columns=['CMPLNT_NUM', 'CMPLNT_FR_DT', 'CMPLNT_FR_TM', 'CMPLNT_TO_DT',\n",
    "       'CMPLNT_TO_TM', 'RPT_DT','OFNS_DESC', 'PD_CD', 'PD_DESC',\n",
    "       'CRM_ATPT_CPTD_CD', 'LAW_CAT_CD', 'JURIS_DESC', 'BORO_NM',\n",
    "       'ADDR_PCT_CD', 'LOC_OF_OCCUR_DESC', 'PREM_TYP_DESC', 'PARKS_NM',\n",
    "       'HADEVELOPT', 'X_COORD_CD', 'Y_COORD_CD', 'Latitude', 'Longitude',\n",
    "       'Lat_Lon']).groupby(['YR_M']).count()"
   ]
  },
  {
   "cell_type": "code",
   "execution_count": 8,
   "metadata": {},
   "outputs": [],
   "source": [
    "staten_island_crime_cnt = nyc_crime_data[nyc_crime_data[\"BORO_NM\"]==\"STATEN ISLAND\"].drop(columns=['CMPLNT_NUM', 'CMPLNT_FR_DT', 'CMPLNT_FR_TM', 'CMPLNT_TO_DT',\n",
    "       'CMPLNT_TO_TM', 'RPT_DT','OFNS_DESC', 'PD_CD', 'PD_DESC',\n",
    "       'CRM_ATPT_CPTD_CD', 'LAW_CAT_CD', 'JURIS_DESC', 'BORO_NM',\n",
    "       'ADDR_PCT_CD', 'LOC_OF_OCCUR_DESC', 'PREM_TYP_DESC', 'PARKS_NM',\n",
    "       'HADEVELOPT', 'X_COORD_CD', 'Y_COORD_CD', 'Latitude', 'Longitude',\n",
    "       'Lat_Lon']).groupby(['YR_M']).count()"
   ]
  },
  {
   "cell_type": "code",
   "execution_count": 9,
   "metadata": {},
   "outputs": [],
   "source": [
    "manhattan_crime_cnt = manhattan_crime_cnt.rename(columns={'KY_CD':'MANHATTAN_Crime_Cnt'})"
   ]
  },
  {
   "cell_type": "code",
   "execution_count": 10,
   "metadata": {},
   "outputs": [],
   "source": [
    "brooklyn_crime_cnt = brooklyn_crime_cnt.rename(columns={'KY_CD':'BROOKLYN_Crime_Cnt'})"
   ]
  },
  {
   "cell_type": "code",
   "execution_count": 11,
   "metadata": {},
   "outputs": [],
   "source": [
    "queens_crime_cnt = queens_crime_cnt.rename(columns={'KY_CD':'QUEENS_Crime_Cnt'})"
   ]
  },
  {
   "cell_type": "code",
   "execution_count": 12,
   "metadata": {},
   "outputs": [],
   "source": [
    "bronx_crime_cnt = bronx_crime_cnt.rename(columns={'KY_CD':'BRONX_Crime_Cnt'})"
   ]
  },
  {
   "cell_type": "code",
   "execution_count": 13,
   "metadata": {},
   "outputs": [],
   "source": [
    "staten_island_crime_cnt = staten_island_crime_cnt.rename(columns={'KY_CD':'STATEN_ISLAND_Crime_Cnt'})"
   ]
  },
  {
   "cell_type": "code",
   "execution_count": 14,
   "metadata": {},
   "outputs": [
    {
     "name": "stdout",
     "output_type": "stream",
     "text": [
      "         MANHATTAN_Crime_Cnt\n",
      "YR_M                        \n",
      "2006-01                10668\n",
      "2006-02                 9230\n",
      "2006-03                10809\n",
      "2006-04                10364\n",
      "2006-05                11108\n"
     ]
    },
    {
     "data": {
      "text/plain": [
       "Index(['2006-01', '2006-02', '2006-03', '2006-04', '2006-05'], dtype='object', name='YR_M')"
      ]
     },
     "execution_count": 14,
     "metadata": {},
     "output_type": "execute_result"
    }
   ],
   "source": [
    "print(manhattan_crime_cnt.head())\n",
    "manhattan_crime_cnt.head().index"
   ]
  },
  {
   "cell_type": "code",
   "execution_count": 15,
   "metadata": {},
   "outputs": [
    {
     "name": "stdout",
     "output_type": "stream",
     "text": [
      "         BROOKLYN_Crime_Cnt\n",
      "YR_M                       \n",
      "2006-01               13416\n",
      "2006-02               11087\n",
      "2006-03               13166\n",
      "2006-04               13037\n",
      "2006-05               14139\n"
     ]
    },
    {
     "data": {
      "text/plain": [
       "Index(['2006-01', '2006-02', '2006-03', '2006-04', '2006-05'], dtype='object', name='YR_M')"
      ]
     },
     "execution_count": 15,
     "metadata": {},
     "output_type": "execute_result"
    }
   ],
   "source": [
    "print(brooklyn_crime_cnt.head())\n",
    "brooklyn_crime_cnt.head().index"
   ]
  },
  {
   "cell_type": "code",
   "execution_count": 16,
   "metadata": {},
   "outputs": [
    {
     "name": "stdout",
     "output_type": "stream",
     "text": [
      "         QUEENS_Crime_Cnt\n",
      "YR_M                     \n",
      "2006-01              9118\n",
      "2006-02              7825\n",
      "2006-03              9176\n",
      "2006-04              8660\n",
      "2006-05              9446\n"
     ]
    },
    {
     "data": {
      "text/plain": [
       "Index(['2006-01', '2006-02', '2006-03', '2006-04', '2006-05'], dtype='object', name='YR_M')"
      ]
     },
     "execution_count": 16,
     "metadata": {},
     "output_type": "execute_result"
    }
   ],
   "source": [
    "print(queens_crime_cnt.head())\n",
    "queens_crime_cnt.head().index"
   ]
  },
  {
   "cell_type": "code",
   "execution_count": 17,
   "metadata": {},
   "outputs": [
    {
     "name": "stdout",
     "output_type": "stream",
     "text": [
      "         BRONX_Crime_Cnt\n",
      "YR_M                    \n",
      "2006-01             9820\n",
      "2006-02             8148\n",
      "2006-03            10040\n",
      "2006-04             9268\n",
      "2006-05            10012\n"
     ]
    },
    {
     "data": {
      "text/plain": [
       "Index(['2006-01', '2006-02', '2006-03', '2006-04', '2006-05'], dtype='object', name='YR_M')"
      ]
     },
     "execution_count": 17,
     "metadata": {},
     "output_type": "execute_result"
    }
   ],
   "source": [
    "print(bronx_crime_cnt.head())\n",
    "bronx_crime_cnt.head().index"
   ]
  },
  {
   "cell_type": "code",
   "execution_count": 18,
   "metadata": {},
   "outputs": [
    {
     "name": "stdout",
     "output_type": "stream",
     "text": [
      "         STATEN_ISLAND_Crime_Cnt\n",
      "YR_M                            \n",
      "2006-01                     2237\n",
      "2006-02                     1953\n",
      "2006-03                     2242\n",
      "2006-04                     2203\n",
      "2006-05                     2381\n"
     ]
    },
    {
     "data": {
      "text/plain": [
       "Index(['2006-01', '2006-02', '2006-03', '2006-04', '2006-05'], dtype='object', name='YR_M')"
      ]
     },
     "execution_count": 18,
     "metadata": {},
     "output_type": "execute_result"
    }
   ],
   "source": [
    "print(staten_island_crime_cnt.head())\n",
    "staten_island_crime_cnt.head().index"
   ]
  },
  {
   "cell_type": "code",
   "execution_count": 19,
   "metadata": {},
   "outputs": [],
   "source": [
    "nyc_crime_cnt_df = manhattan_crime_cnt"
   ]
  },
  {
   "cell_type": "code",
   "execution_count": 20,
   "metadata": {},
   "outputs": [],
   "source": [
    "nyc_crime_cnt_df = nyc_crime_cnt_df.join(brooklyn_crime_cnt)"
   ]
  },
  {
   "cell_type": "code",
   "execution_count": 21,
   "metadata": {},
   "outputs": [],
   "source": [
    "nyc_crime_cnt_df = nyc_crime_cnt_df.join(queens_crime_cnt)"
   ]
  },
  {
   "cell_type": "code",
   "execution_count": 22,
   "metadata": {},
   "outputs": [],
   "source": [
    "nyc_crime_cnt_df = nyc_crime_cnt_df.join(bronx_crime_cnt)"
   ]
  },
  {
   "cell_type": "code",
   "execution_count": 23,
   "metadata": {},
   "outputs": [],
   "source": [
    "nyc_crime_cnt_df = nyc_crime_cnt_df.join(staten_island_crime_cnt)"
   ]
  },
  {
   "cell_type": "code",
   "execution_count": 24,
   "metadata": {},
   "outputs": [],
   "source": [
    "# DOES NOT WORK because YR_M is index nyc_crime_cnt_df = nyc_crime_cnt_df.rename(columns={'YR_M':'Date'})\n",
    "nyc_crime_cnt_df.index.rename('Date',inplace=True)"
   ]
  },
  {
   "cell_type": "code",
   "execution_count": 25,
   "metadata": {},
   "outputs": [],
   "source": [
    "nyc_crime_cnt_df.to_csv('NYC_Crime_Cnt_by_Boro.csv')"
   ]
  },
  {
   "cell_type": "code",
   "execution_count": 26,
   "metadata": {},
   "outputs": [
    {
     "data": {
      "text/plain": [
       "<matplotlib.axes._subplots.AxesSubplot at 0x21ad49c3c18>"
      ]
     },
     "execution_count": 26,
     "metadata": {},
     "output_type": "execute_result"
    },
    {
     "data": {
      "image/png": "[encoded data removed]",
      "text/plain": [
       "<Figure size 432x288 with 1 Axes>"
      ]
     },
     "metadata": {},
     "output_type": "display_data"
    }
   ],
   "source": [
    "nyc_crime_cnt_df.plot(kind='bar')"
   ]
  },
  {
   "cell_type": "code",
   "execution_count": 28,
   "metadata": {},
   "outputs": [
    {
     "data": {
      "text/plain": [
       "Timestamp('2006-01-01 00:00:00')"
      ]
     },
     "execution_count": 28,
     "metadata": {},
     "output_type": "execute_result"
    }
   ],
   "source": [
    "# Need to check why starts from 2006 not earlier!!!\n",
    "nyc_crime_data['RPT_DT'].min()"
   ]
  }
 ],
 "metadata": {
  "kernelspec": {
   "display_name": "Python 3",
   "language": "python",
   "name": "python3"
  },
  "language_info": {
   "codemirror_mode": {
    "name": "ipython",
    "version": 3
   },
   "file_extension": ".py",
   "mimetype": "text/x-python",
   "name": "python",
   "nbconvert_exporter": "python",
   "pygments_lexer": "ipython3",
   "version": "3.6.5"
  }
 },
 "nbformat": 4,
 "nbformat_minor": 2
}
