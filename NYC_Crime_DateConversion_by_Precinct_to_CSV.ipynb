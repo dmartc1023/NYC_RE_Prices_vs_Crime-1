{
 "cells": [
  {
   "cell_type": "code",
   "execution_count": 1,
   "metadata": {},
   "outputs": [],
   "source": [
    "# Dependencies and Setup\n",
    "%matplotlib inline\n",
    "import matplotlib.pyplot as plt\n",
    "import pandas as pd\n",
    "import numpy as np\n",
    "import dateutil\n",
    "\n",
    "# this code written by Paul AG\n",
    "# Hide warning messages in notebook\n",
    "import warnings\n",
    "warnings.filterwarnings('ignore')\n",
    "\n",
    "\n",
    "# File to Load (Remember to Change These)\n",
    "#nyc_zillow_load = \"\\\\Users\\\\Paul-DS\\\\Downloads\\\\Neighborhood_MedianValuePerSqft_AllHomes.csv\"\n",
    "nyc_crime_load=\"\\\\Users\\\\Paul-DS\\\\Downloads\\\\NYPD_Complaint_Data_Historic.csv\"\n",
    "\n",
    "#nyc_zillow_data=pd.read_csv(nyc_zillow_load, low_memory=True)\n",
    "nyc_crime_data=pd.read_csv(nyc_crime_load)\n",
    "\n",
    "boro=['Manhattan', 'Bronx', 'Brooklyn', 'Queens', 'Staten Island']\n",
    "# Kings is synomous with Brooklyn (same land mass)\n",
    "county=['New York', 'Bronx', 'Kings', 'Queens', 'Richmond']\n"
   ]
  },
  {
   "cell_type": "code",
   "execution_count": 2,
   "metadata": {},
   "outputs": [],
   "source": [
    "# Start droping columns we do not need \n",
    "# -- We know from previous work on this data set we can initially drop columns\n",
    "nyc_crime_data=nyc_crime_data.drop(columns=['CMPLNT_NUM', 'CMPLNT_FR_TM', 'CMPLNT_TO_DT',\n",
    "       'CMPLNT_TO_TM', 'RPT_DT','OFNS_DESC', 'PD_CD', 'PD_DESC',\n",
    "       'CRM_ATPT_CPTD_CD', 'LAW_CAT_CD', 'JURIS_DESC',\n",
    "     'LOC_OF_OCCUR_DESC', 'PREM_TYP_DESC', 'PARKS_NM',\n",
    "       'HADEVELOPT', 'X_COORD_CD', 'Y_COORD_CD', 'Latitude', 'Longitude',\n",
    "       'Lat_Lon'])"
   ]
  },
  {
   "cell_type": "code",
   "execution_count": 3,
   "metadata": {},
   "outputs": [],
   "source": [
    "#nyc_crime_data.info()"
   ]
  },
  {
   "cell_type": "code",
   "execution_count": 4,
   "metadata": {},
   "outputs": [],
   "source": [
    "# TypeError: Parser must be a string or character stream, not float\n",
    "# now converting column to strings, But don't understand why when its already an object of strings?\n",
    "string_dates=[]\n",
    "for date in nyc_crime_data['CMPLNT_FR_DT']:\n",
    "    date=str(date)\n",
    "    string_dates.append(date)\n"
   ]
  },
  {
   "cell_type": "code",
   "execution_count": 5,
   "metadata": {},
   "outputs": [],
   "source": [
    "nyc_crime_data['DATE_TYPE']=pd.to_datetime(string_dates,dayfirst=False, errors='coerce')"
   ]
  },
  {
   "cell_type": "code",
   "execution_count": 6,
   "metadata": {},
   "outputs": [],
   "source": [
    "# Filter data to above year 1995\n",
    "nyc_crime_data=nyc_crime_data[nyc_crime_data['DATE_TYPE'].dt.year>1995]"
   ]
  },
  {
   "cell_type": "code",
   "execution_count": 7,
   "metadata": {},
   "outputs": [
    {
     "data": {
      "text/plain": [
       "CMPLNT_FR_DT    6047293\n",
       "KY_CD           6047293\n",
       "BORO_NM         6046830\n",
       "ADDR_PCT_CD     6046903\n",
       "DATE_TYPE       6047293\n",
       "dtype: int64"
      ]
     },
     "execution_count": 7,
     "metadata": {},
     "output_type": "execute_result"
    }
   ],
   "source": [
    "nyc_crime_data.count()"
   ]
  },
  {
   "cell_type": "code",
   "execution_count": 8,
   "metadata": {},
   "outputs": [],
   "source": [
    "nyc_crime_data=nyc_crime_data.dropna()"
   ]
  },
  {
   "cell_type": "code",
   "execution_count": 9,
   "metadata": {},
   "outputs": [
    {
     "data": {
      "text/plain": [
       "CMPLNT_FR_DT    6046827\n",
       "KY_CD           6046827\n",
       "BORO_NM         6046827\n",
       "ADDR_PCT_CD     6046827\n",
       "DATE_TYPE       6046827\n",
       "dtype: int64"
      ]
     },
     "execution_count": 9,
     "metadata": {},
     "output_type": "execute_result"
    }
   ],
   "source": [
    "nyc_crime_data.count()"
   ]
  },
  {
   "cell_type": "code",
   "execution_count": 10,
   "metadata": {},
   "outputs": [],
   "source": [
    "# change date value type and format YYYY-MM (final)\n",
    "nyc_crime_data['YR_M'] = nyc_crime_data['DATE_TYPE'].dt.strftime('%Y-%m')"
   ]
  },
  {
   "cell_type": "code",
   "execution_count": 11,
   "metadata": {},
   "outputs": [
    {
     "data": {
      "text/html": [
       "<div>\n",
       "<style scoped>\n",
       "    .dataframe tbody tr th:only-of-type {\n",
       "        vertical-align: middle;\n",
       "    }\n",
       "\n",
       "    .dataframe tbody tr th {\n",
       "        vertical-align: top;\n",
       "    }\n",
       "\n",
       "    .dataframe thead th {\n",
       "        text-align: right;\n",
       "    }\n",
       "</style>\n",
       "<table border=\"1\" class=\"dataframe\">\n",
       "  <thead>\n",
       "    <tr style=\"text-align: right;\">\n",
       "      <th></th>\n",
       "      <th>CMPLNT_FR_DT</th>\n",
       "      <th>KY_CD</th>\n",
       "      <th>BORO_NM</th>\n",
       "      <th>ADDR_PCT_CD</th>\n",
       "      <th>DATE_TYPE</th>\n",
       "      <th>YR_M</th>\n",
       "    </tr>\n",
       "  </thead>\n",
       "  <tbody>\n",
       "    <tr>\n",
       "      <th>0</th>\n",
       "      <td>12/31/2015</td>\n",
       "      <td>113</td>\n",
       "      <td>BRONX</td>\n",
       "      <td>44.0</td>\n",
       "      <td>2015-12-31</td>\n",
       "      <td>2015-12</td>\n",
       "    </tr>\n",
       "    <tr>\n",
       "      <th>1</th>\n",
       "      <td>12/31/2015</td>\n",
       "      <td>101</td>\n",
       "      <td>QUEENS</td>\n",
       "      <td>103.0</td>\n",
       "      <td>2015-12-31</td>\n",
       "      <td>2015-12</td>\n",
       "    </tr>\n",
       "    <tr>\n",
       "      <th>2</th>\n",
       "      <td>12/31/2015</td>\n",
       "      <td>117</td>\n",
       "      <td>MANHATTAN</td>\n",
       "      <td>28.0</td>\n",
       "      <td>2015-12-31</td>\n",
       "      <td>2015-12</td>\n",
       "    </tr>\n",
       "    <tr>\n",
       "      <th>3</th>\n",
       "      <td>12/31/2015</td>\n",
       "      <td>344</td>\n",
       "      <td>QUEENS</td>\n",
       "      <td>105.0</td>\n",
       "      <td>2015-12-31</td>\n",
       "      <td>2015-12</td>\n",
       "    </tr>\n",
       "    <tr>\n",
       "      <th>4</th>\n",
       "      <td>12/31/2015</td>\n",
       "      <td>344</td>\n",
       "      <td>MANHATTAN</td>\n",
       "      <td>13.0</td>\n",
       "      <td>2015-12-31</td>\n",
       "      <td>2015-12</td>\n",
       "    </tr>\n",
       "  </tbody>\n",
       "</table>\n",
       "</div>"
      ],
      "text/plain": [
       "  CMPLNT_FR_DT  KY_CD    BORO_NM  ADDR_PCT_CD  DATE_TYPE     YR_M\n",
       "0   12/31/2015    113      BRONX         44.0 2015-12-31  2015-12\n",
       "1   12/31/2015    101     QUEENS        103.0 2015-12-31  2015-12\n",
       "2   12/31/2015    117  MANHATTAN         28.0 2015-12-31  2015-12\n",
       "3   12/31/2015    344     QUEENS        105.0 2015-12-31  2015-12\n",
       "4   12/31/2015    344  MANHATTAN         13.0 2015-12-31  2015-12"
      ]
     },
     "execution_count": 11,
     "metadata": {},
     "output_type": "execute_result"
    }
   ],
   "source": [
    "nyc_crime_data.head()"
   ]
  },
  {
   "cell_type": "code",
   "execution_count": 12,
   "metadata": {},
   "outputs": [],
   "source": [
    "nyc_crime_data=nyc_crime_data.drop(columns=['CMPLNT_FR_DT','DATE_TYPE'])"
   ]
  },
  {
   "cell_type": "code",
   "execution_count": 13,
   "metadata": {},
   "outputs": [
    {
     "data": {
      "text/html": [
       "<div>\n",
       "<style scoped>\n",
       "    .dataframe tbody tr th:only-of-type {\n",
       "        vertical-align: middle;\n",
       "    }\n",
       "\n",
       "    .dataframe tbody tr th {\n",
       "        vertical-align: top;\n",
       "    }\n",
       "\n",
       "    .dataframe thead th {\n",
       "        text-align: right;\n",
       "    }\n",
       "</style>\n",
       "<table border=\"1\" class=\"dataframe\">\n",
       "  <thead>\n",
       "    <tr style=\"text-align: right;\">\n",
       "      <th></th>\n",
       "      <th>KY_CD</th>\n",
       "      <th>BORO_NM</th>\n",
       "      <th>ADDR_PCT_CD</th>\n",
       "      <th>YR_M</th>\n",
       "    </tr>\n",
       "  </thead>\n",
       "  <tbody>\n",
       "    <tr>\n",
       "      <th>0</th>\n",
       "      <td>113</td>\n",
       "      <td>BRONX</td>\n",
       "      <td>44.0</td>\n",
       "      <td>2015-12</td>\n",
       "    </tr>\n",
       "    <tr>\n",
       "      <th>1</th>\n",
       "      <td>101</td>\n",
       "      <td>QUEENS</td>\n",
       "      <td>103.0</td>\n",
       "      <td>2015-12</td>\n",
       "    </tr>\n",
       "    <tr>\n",
       "      <th>2</th>\n",
       "      <td>117</td>\n",
       "      <td>MANHATTAN</td>\n",
       "      <td>28.0</td>\n",
       "      <td>2015-12</td>\n",
       "    </tr>\n",
       "    <tr>\n",
       "      <th>3</th>\n",
       "      <td>344</td>\n",
       "      <td>QUEENS</td>\n",
       "      <td>105.0</td>\n",
       "      <td>2015-12</td>\n",
       "    </tr>\n",
       "    <tr>\n",
       "      <th>4</th>\n",
       "      <td>344</td>\n",
       "      <td>MANHATTAN</td>\n",
       "      <td>13.0</td>\n",
       "      <td>2015-12</td>\n",
       "    </tr>\n",
       "  </tbody>\n",
       "</table>\n",
       "</div>"
      ],
      "text/plain": [
       "   KY_CD    BORO_NM  ADDR_PCT_CD     YR_M\n",
       "0    113      BRONX         44.0  2015-12\n",
       "1    101     QUEENS        103.0  2015-12\n",
       "2    117  MANHATTAN         28.0  2015-12\n",
       "3    344     QUEENS        105.0  2015-12\n",
       "4    344  MANHATTAN         13.0  2015-12"
      ]
     },
     "execution_count": 13,
     "metadata": {},
     "output_type": "execute_result"
    }
   ],
   "source": [
    "nyc_crime_data.head()"
   ]
  },
  {
   "cell_type": "code",
   "execution_count": 14,
   "metadata": {},
   "outputs": [],
   "source": [
    "nyc_crime_data.to_csv('NYC_CRIME_DATA_YRM_KYCD_PRECINCT.CSV')"
   ]
  },
  {
   "cell_type": "code",
   "execution_count": null,
   "metadata": {},
   "outputs": [],
   "source": [
    "# Nice method to check dates\n",
    "#[item for item in nyc_crime_data['CMPLNT_FR_DT'].unique()]"
   ]
  },
  {
   "cell_type": "code",
   "execution_count": null,
   "metadata": {},
   "outputs": [],
   "source": [
    "manhattan_crime_cnt = nyc_crime_data[nyc_crime_data['BORO_NM']=='MANHATTAN'].drop(columns=['CMPLNT_NUM', 'CMPLNT_FR_DT', 'CMPLNT_FR_TM', 'CMPLNT_TO_DT',\n",
    "       'CMPLNT_TO_TM', 'RPT_DT','OFNS_DESC', 'PD_CD', 'PD_DESC',\n",
    "       'CRM_ATPT_CPTD_CD', 'LAW_CAT_CD', 'JURIS_DESC', 'BORO_NM',\n",
    "       'ADDR_PCT_CD', 'LOC_OF_OCCUR_DESC', 'PREM_TYP_DESC', 'PARKS_NM',\n",
    "       'HADEVELOPT', 'X_COORD_CD', 'Y_COORD_CD', 'Latitude', 'Longitude',\n",
    "       'Lat_Lon']).groupby(['YR_M']).count()"
   ]
  },
  {
   "cell_type": "code",
   "execution_count": null,
   "metadata": {},
   "outputs": [],
   "source": [
    "brooklyn_crime_cnt = nyc_crime_data[nyc_crime_data['BORO_NM']=='BROOKLYN'].drop(columns=['CMPLNT_NUM', 'CMPLNT_FR_DT', 'CMPLNT_FR_TM', 'CMPLNT_TO_DT',\n",
    "       'CMPLNT_TO_TM', 'RPT_DT','OFNS_DESC', 'PD_CD', 'PD_DESC',\n",
    "       'CRM_ATPT_CPTD_CD', 'LAW_CAT_CD', 'JURIS_DESC', 'BORO_NM',\n",
    "       'ADDR_PCT_CD', 'LOC_OF_OCCUR_DESC', 'PREM_TYP_DESC', 'PARKS_NM',\n",
    "       'HADEVELOPT', 'X_COORD_CD', 'Y_COORD_CD', 'Latitude', 'Longitude',\n",
    "       'Lat_Lon']).groupby(['YR_M']).count()"
   ]
  },
  {
   "cell_type": "code",
   "execution_count": null,
   "metadata": {},
   "outputs": [],
   "source": [
    "queens_crime_cnt = nyc_crime_data[nyc_crime_data[\"BORO_NM\"]==\"QUEENS\"].drop(columns=['CMPLNT_NUM', 'CMPLNT_FR_DT', 'CMPLNT_FR_TM', 'CMPLNT_TO_DT',\n",
    "       'CMPLNT_TO_TM', 'RPT_DT','OFNS_DESC', 'PD_CD', 'PD_DESC',\n",
    "       'CRM_ATPT_CPTD_CD', 'LAW_CAT_CD', 'JURIS_DESC', 'BORO_NM',\n",
    "       'ADDR_PCT_CD', 'LOC_OF_OCCUR_DESC', 'PREM_TYP_DESC', 'PARKS_NM',\n",
    "       'HADEVELOPT', 'X_COORD_CD', 'Y_COORD_CD', 'Latitude', 'Longitude',\n",
    "       'Lat_Lon']).groupby(['YR_M']).count()"
   ]
  },
  {
   "cell_type": "code",
   "execution_count": null,
   "metadata": {},
   "outputs": [],
   "source": [
    "bronx_crime_cnt = nyc_crime_data[nyc_crime_data[\"BORO_NM\"]==\"BRONX\"].drop(columns=['CMPLNT_NUM', 'CMPLNT_FR_DT', 'CMPLNT_FR_TM', 'CMPLNT_TO_DT',\n",
    "       'CMPLNT_TO_TM', 'RPT_DT','OFNS_DESC', 'PD_CD', 'PD_DESC',\n",
    "       'CRM_ATPT_CPTD_CD', 'LAW_CAT_CD', 'JURIS_DESC', 'BORO_NM',\n",
    "       'ADDR_PCT_CD', 'LOC_OF_OCCUR_DESC', 'PREM_TYP_DESC', 'PARKS_NM',\n",
    "       'HADEVELOPT', 'X_COORD_CD', 'Y_COORD_CD', 'Latitude', 'Longitude',\n",
    "       'Lat_Lon']).groupby(['YR_M']).count()"
   ]
  },
  {
   "cell_type": "code",
   "execution_count": null,
   "metadata": {},
   "outputs": [],
   "source": [
    "staten_island_crime_cnt = nyc_crime_data[nyc_crime_data[\"BORO_NM\"]==\"STATEN ISLAND\"].drop(columns=['CMPLNT_NUM', 'CMPLNT_FR_DT', 'CMPLNT_FR_TM', 'CMPLNT_TO_DT',\n",
    "       'CMPLNT_TO_TM', 'RPT_DT','OFNS_DESC', 'PD_CD', 'PD_DESC',\n",
    "       'CRM_ATPT_CPTD_CD', 'LAW_CAT_CD', 'JURIS_DESC', 'BORO_NM',\n",
    "       'ADDR_PCT_CD', 'LOC_OF_OCCUR_DESC', 'PREM_TYP_DESC', 'PARKS_NM',\n",
    "       'HADEVELOPT', 'X_COORD_CD', 'Y_COORD_CD', 'Latitude', 'Longitude',\n",
    "       'Lat_Lon']).groupby(['YR_M']).count()"
   ]
  },
  {
   "cell_type": "code",
   "execution_count": null,
   "metadata": {},
   "outputs": [],
   "source": [
    "manhattan_crime_cnt = manhattan_crime_cnt.rename(columns={'KY_CD':'MANHATTAN_Crime_Cnt'})"
   ]
  },
  {
   "cell_type": "code",
   "execution_count": null,
   "metadata": {},
   "outputs": [],
   "source": [
    "brooklyn_crime_cnt = brooklyn_crime_cnt.rename(columns={'KY_CD':'BROOKLYN_Crime_Cnt'})"
   ]
  },
  {
   "cell_type": "code",
   "execution_count": null,
   "metadata": {},
   "outputs": [],
   "source": [
    "queens_crime_cnt = queens_crime_cnt.rename(columns={'KY_CD':'QUEENS_Crime_Cnt'})"
   ]
  },
  {
   "cell_type": "code",
   "execution_count": null,
   "metadata": {},
   "outputs": [],
   "source": [
    "bronx_crime_cnt = bronx_crime_cnt.rename(columns={'KY_CD':'BRONX_Crime_Cnt'})"
   ]
  },
  {
   "cell_type": "code",
   "execution_count": null,
   "metadata": {},
   "outputs": [],
   "source": [
    "staten_island_crime_cnt = staten_island_crime_cnt.rename(columns={'KY_CD':'STATEN_ISLAND_Crime_Cnt'})"
   ]
  },
  {
   "cell_type": "code",
   "execution_count": null,
   "metadata": {},
   "outputs": [],
   "source": [
    "print(manhattan_crime_cnt.head())\n",
    "manhattan_crime_cnt.head().index"
   ]
  },
  {
   "cell_type": "code",
   "execution_count": null,
   "metadata": {},
   "outputs": [],
   "source": [
    "print(brooklyn_crime_cnt.head())\n",
    "brooklyn_crime_cnt.head().index"
   ]
  },
  {
   "cell_type": "code",
   "execution_count": null,
   "metadata": {},
   "outputs": [],
   "source": [
    "print(queens_crime_cnt.head())\n",
    "queens_crime_cnt.head().index"
   ]
  },
  {
   "cell_type": "code",
   "execution_count": null,
   "metadata": {},
   "outputs": [],
   "source": [
    "print(bronx_crime_cnt.head())\n",
    "bronx_crime_cnt.head().index"
   ]
  },
  {
   "cell_type": "code",
   "execution_count": null,
   "metadata": {},
   "outputs": [],
   "source": [
    "print(staten_island_crime_cnt.head())\n",
    "staten_island_crime_cnt.head().index"
   ]
  },
  {
   "cell_type": "code",
   "execution_count": null,
   "metadata": {},
   "outputs": [],
   "source": [
    "nyc_crime_cnt_df = manhattan_crime_cnt"
   ]
  },
  {
   "cell_type": "code",
   "execution_count": null,
   "metadata": {},
   "outputs": [],
   "source": [
    "nyc_crime_cnt_df = nyc_crime_cnt_df.join(brooklyn_crime_cnt)"
   ]
  },
  {
   "cell_type": "code",
   "execution_count": null,
   "metadata": {},
   "outputs": [],
   "source": [
    "nyc_crime_cnt_df = nyc_crime_cnt_df.join(queens_crime_cnt)"
   ]
  },
  {
   "cell_type": "code",
   "execution_count": null,
   "metadata": {},
   "outputs": [],
   "source": [
    "nyc_crime_cnt_df = nyc_crime_cnt_df.join(bronx_crime_cnt)"
   ]
  },
  {
   "cell_type": "code",
   "execution_count": null,
   "metadata": {},
   "outputs": [],
   "source": [
    "nyc_crime_cnt_df = nyc_crime_cnt_df.join(staten_island_crime_cnt)"
   ]
  },
  {
   "cell_type": "code",
   "execution_count": null,
   "metadata": {},
   "outputs": [],
   "source": [
    "# DOES NOT WORK because YR_M is index nyc_crime_cnt_df = nyc_crime_cnt_df.rename(columns={'YR_M':'Date'})\n",
    "nyc_crime_cnt_df.index.rename('Date',inplace=True)"
   ]
  },
  {
   "cell_type": "code",
   "execution_count": null,
   "metadata": {},
   "outputs": [],
   "source": [
    "nyc_crime_cnt_df.to_csv('NYC_Crime_Cnt_by_Boro.csv')"
   ]
  },
  {
   "cell_type": "code",
   "execution_count": null,
   "metadata": {},
   "outputs": [],
   "source": [
    "#nyc_crime_cnt_df.plot(kind='bar')"
   ]
  },
  {
   "cell_type": "code",
   "execution_count": null,
   "metadata": {},
   "outputs": [],
   "source": [
    "# Need to check why starts from 2006 not earlier!!!\n",
    "#nyc_crime_data['RPT_DT'].min()"
   ]
  }
 ],
 "metadata": {
  "kernelspec": {
   "display_name": "Python 3",
   "language": "python",
   "name": "python3"
  },
  "language_info": {
   "codemirror_mode": {
    "name": "ipython",
    "version": 3
   },
   "file_extension": ".py",
   "mimetype": "text/x-python",
   "name": "python",
   "nbconvert_exporter": "python",
   "pygments_lexer": "ipython3",
   "version": "3.6.5"
  }
 },
 "nbformat": 4,
 "nbformat_minor": 2
}
