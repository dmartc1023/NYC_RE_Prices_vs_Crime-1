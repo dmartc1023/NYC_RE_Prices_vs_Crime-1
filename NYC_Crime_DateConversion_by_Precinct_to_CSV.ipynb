{
 "cells": [
  {
   "cell_type": "code",
   "execution_count": 1,
   "metadata": {},
   "outputs": [],
   "source": [
    "# Dependencies and Setup\n",
    "%matplotlib inline\n",
    "import matplotlib.pyplot as plt\n",
    "import pandas as pd\n",
    "import numpy as np\n",
    "import dateutil\n",
    "\n",
    "# this code written by Paul AG\n",
    "# Hide warning messages in notebook\n",
    "import warnings\n",
    "warnings.filterwarnings('ignore')\n",
    "\n",
    "\n",
    "# File to Load (Remember to Change These)\n",
    "#nyc_zillow_load = \"\\\\Users\\\\Paul-DS\\\\Downloads\\\\Neighborhood_MedianValuePerSqft_AllHomes.csv\"\n",
    "nyc_crime_load=\"\\\\Users\\\\Paul-DS\\\\Downloads\\\\NYPD_Complaint_Data_Historic.csv\"\n",
    "\n",
    "#nyc_zillow_data=pd.read_csv(nyc_zillow_load, low_memory=True)\n",
    "nyc_crime_data=pd.read_csv(nyc_crime_load)\n",
    "\n",
    "boro=['Manhattan', 'Bronx', 'Brooklyn', 'Queens', 'Staten Island']\n",
    "# Kings is synomous with Brooklyn (same land mass)\n",
    "county=['New York', 'Bronx', 'Kings', 'Queens', 'Richmond']\n"
   ]
  },
  {
   "cell_type": "code",
   "execution_count": 2,
   "metadata": {},
   "outputs": [],
   "source": [
    "# Start droping columns we do not need \n",
    "# -- We know from previous work on this data set we can initially drop columns\n",
    "nyc_crime_data=nyc_crime_data.drop(columns=['CMPLNT_NUM', 'CMPLNT_FR_TM', 'CMPLNT_TO_DT',\n",
    "       'CMPLNT_TO_TM', 'RPT_DT','OFNS_DESC', 'PD_CD', 'PD_DESC',\n",
    "       'CRM_ATPT_CPTD_CD', 'LAW_CAT_CD', 'JURIS_DESC',\n",
    "     'LOC_OF_OCCUR_DESC', 'PREM_TYP_DESC', 'PARKS_NM',\n",
    "       'HADEVELOPT', 'X_COORD_CD', 'Y_COORD_CD', 'Latitude', 'Longitude',\n",
    "       'Lat_Lon'])"
   ]
  },
  {
   "cell_type": "code",
   "execution_count": 3,
   "metadata": {},
   "outputs": [],
   "source": [
    "#nyc_crime_data.info()"
   ]
  },
  {
   "cell_type": "code",
   "execution_count": 4,
   "metadata": {},
   "outputs": [],
   "source": [
    "# TypeError: Parser must be a string or character stream, not float\n",
    "# now converting column to strings, But don't understand why when its already an object of strings?\n",
    "string_dates=[]\n",
    "for date in nyc_crime_data['CMPLNT_FR_DT']:\n",
    "    date=str(date)\n",
    "    string_dates.append(date)\n"
   ]
  },
  {
   "cell_type": "code",
   "execution_count": 5,
   "metadata": {},
   "outputs": [],
   "source": [
    "nyc_crime_data['DATE_TYPE']=pd.to_datetime(string_dates,dayfirst=False, errors='coerce')"
   ]
  },
  {
   "cell_type": "code",
   "execution_count": 6,
   "metadata": {},
   "outputs": [],
   "source": [
    "# Filter data to above year 1995\n",
    "nyc_crime_data=nyc_crime_data[nyc_crime_data['DATE_TYPE'].dt.year>1995]"
   ]
  },
  {
   "cell_type": "code",
   "execution_count": 7,
   "metadata": {},
   "outputs": [
    {
     "data": {
      "text/plain": [
       "CMPLNT_FR_DT    6047293\n",
       "KY_CD           6047293\n",
       "BORO_NM         6046830\n",
       "ADDR_PCT_CD     6046903\n",
       "DATE_TYPE       6047293\n",
       "dtype: int64"
      ]
     },
     "execution_count": 7,
     "metadata": {},
     "output_type": "execute_result"
    }
   ],
   "source": [
    "nyc_crime_data.count()"
   ]
  },
  {
   "cell_type": "code",
   "execution_count": 8,
   "metadata": {},
   "outputs": [],
   "source": [
    "nyc_crime_data=nyc_crime_data.dropna()"
   ]
  },
  {
   "cell_type": "code",
   "execution_count": 9,
   "metadata": {},
   "outputs": [
    {
     "data": {
      "text/plain": [
       "CMPLNT_FR_DT    6046827\n",
       "KY_CD           6046827\n",
       "BORO_NM         6046827\n",
       "ADDR_PCT_CD     6046827\n",
       "DATE_TYPE       6046827\n",
       "dtype: int64"
      ]
     },
     "execution_count": 9,
     "metadata": {},
     "output_type": "execute_result"
    }
   ],
   "source": [
    "nyc_crime_data.count()"
   ]
  },
  {
   "cell_type": "code",
   "execution_count": 10,
   "metadata": {},
   "outputs": [],
   "source": [
    "# change date value type and format YYYY-MM (final)\n",
    "nyc_crime_data['YR_M'] = nyc_crime_data['DATE_TYPE'].dt.strftime('%Y-%m')"
   ]
  },
  {
   "cell_type": "code",
   "execution_count": 11,
   "metadata": {},
   "outputs": [
    {
     "data": {
      "text/html": [
       "<div>\n",
       "<style scoped>\n",
       "    .dataframe tbody tr th:only-of-type {\n",
       "        vertical-align: middle;\n",
       "    }\n",
       "\n",
       "    .dataframe tbody tr th {\n",
       "        vertical-align: top;\n",
       "    }\n",
       "\n",
       "    .dataframe thead th {\n",
       "        text-align: right;\n",
       "    }\n",
       "</style>\n",
       "<table border=\"1\" class=\"dataframe\">\n",
       "  <thead>\n",
       "    <tr style=\"text-align: right;\">\n",
       "      <th></th>\n",
       "      <th>CMPLNT_FR_DT</th>\n",
       "      <th>KY_CD</th>\n",
       "      <th>BORO_NM</th>\n",
       "      <th>ADDR_PCT_CD</th>\n",
       "      <th>DATE_TYPE</th>\n",
       "      <th>YR_M</th>\n",
       "    </tr>\n",
       "  </thead>\n",
       "  <tbody>\n",
       "    <tr>\n",
       "      <th>0</th>\n",
       "      <td>12/31/2015</td>\n",
       "      <td>113</td>\n",
       "      <td>BRONX</td>\n",
       "      <td>44.0</td>\n",
       "      <td>2015-12-31</td>\n",
       "      <td>2015-12</td>\n",
       "    </tr>\n",
       "    <tr>\n",
       "      <th>1</th>\n",
       "      <td>12/31/2015</td>\n",
       "      <td>101</td>\n",
       "      <td>QUEENS</td>\n",
       "      <td>103.0</td>\n",
       "      <td>2015-12-31</td>\n",
       "      <td>2015-12</td>\n",
       "    </tr>\n",
       "    <tr>\n",
       "      <th>2</th>\n",
       "      <td>12/31/2015</td>\n",
       "      <td>117</td>\n",
       "      <td>MANHATTAN</td>\n",
       "      <td>28.0</td>\n",
       "      <td>2015-12-31</td>\n",
       "      <td>2015-12</td>\n",
       "    </tr>\n",
       "    <tr>\n",
       "      <th>3</th>\n",
       "      <td>12/31/2015</td>\n",
       "      <td>344</td>\n",
       "      <td>QUEENS</td>\n",
       "      <td>105.0</td>\n",
       "      <td>2015-12-31</td>\n",
       "      <td>2015-12</td>\n",
       "    </tr>\n",
       "    <tr>\n",
       "      <th>4</th>\n",
       "      <td>12/31/2015</td>\n",
       "      <td>344</td>\n",
       "      <td>MANHATTAN</td>\n",
       "      <td>13.0</td>\n",
       "      <td>2015-12-31</td>\n",
       "      <td>2015-12</td>\n",
       "    </tr>\n",
       "  </tbody>\n",
       "</table>\n",
       "</div>"
      ],
      "text/plain": [
       "  CMPLNT_FR_DT  KY_CD    BORO_NM  ADDR_PCT_CD  DATE_TYPE     YR_M\n",
       "0   12/31/2015    113      BRONX         44.0 2015-12-31  2015-12\n",
       "1   12/31/2015    101     QUEENS        103.0 2015-12-31  2015-12\n",
       "2   12/31/2015    117  MANHATTAN         28.0 2015-12-31  2015-12\n",
       "3   12/31/2015    344     QUEENS        105.0 2015-12-31  2015-12\n",
       "4   12/31/2015    344  MANHATTAN         13.0 2015-12-31  2015-12"
      ]
     },
     "execution_count": 11,
     "metadata": {},
     "output_type": "execute_result"
    }
   ],
   "source": [
    "nyc_crime_data.head()"
   ]
  },
  {
   "cell_type": "code",
   "execution_count": 12,
   "metadata": {},
   "outputs": [],
   "source": [
    "nyc_crime_data=nyc_crime_data.drop(columns=['CMPLNT_FR_DT','DATE_TYPE'])"
   ]
  },
  {
   "cell_type": "code",
   "execution_count": 13,
   "metadata": {},
   "outputs": [
    {
     "data": {
      "text/html": [
       "<div>\n",
       "<style scoped>\n",
       "    .dataframe tbody tr th:only-of-type {\n",
       "        vertical-align: middle;\n",
       "    }\n",
       "\n",
       "    .dataframe tbody tr th {\n",
       "        vertical-align: top;\n",
       "    }\n",
       "\n",
       "    .dataframe thead th {\n",
       "        text-align: right;\n",
       "    }\n",
       "</style>\n",
       "<table border=\"1\" class=\"dataframe\">\n",
       "  <thead>\n",
       "    <tr style=\"text-align: right;\">\n",
       "      <th></th>\n",
       "      <th>KY_CD</th>\n",
       "      <th>BORO_NM</th>\n",
       "      <th>ADDR_PCT_CD</th>\n",
       "      <th>YR_M</th>\n",
       "    </tr>\n",
       "  </thead>\n",
       "  <tbody>\n",
       "    <tr>\n",
       "      <th>0</th>\n",
       "      <td>113</td>\n",
       "      <td>BRONX</td>\n",
       "      <td>44.0</td>\n",
       "      <td>2015-12</td>\n",
       "    </tr>\n",
       "    <tr>\n",
       "      <th>1</th>\n",
       "      <td>101</td>\n",
       "      <td>QUEENS</td>\n",
       "      <td>103.0</td>\n",
       "      <td>2015-12</td>\n",
       "    </tr>\n",
       "    <tr>\n",
       "      <th>2</th>\n",
       "      <td>117</td>\n",
       "      <td>MANHATTAN</td>\n",
       "      <td>28.0</td>\n",
       "      <td>2015-12</td>\n",
       "    </tr>\n",
       "    <tr>\n",
       "      <th>3</th>\n",
       "      <td>344</td>\n",
       "      <td>QUEENS</td>\n",
       "      <td>105.0</td>\n",
       "      <td>2015-12</td>\n",
       "    </tr>\n",
       "    <tr>\n",
       "      <th>4</th>\n",
       "      <td>344</td>\n",
       "      <td>MANHATTAN</td>\n",
       "      <td>13.0</td>\n",
       "      <td>2015-12</td>\n",
       "    </tr>\n",
       "  </tbody>\n",
       "</table>\n",
       "</div>"
      ],
      "text/plain": [
       "   KY_CD    BORO_NM  ADDR_PCT_CD     YR_M\n",
       "0    113      BRONX         44.0  2015-12\n",
       "1    101     QUEENS        103.0  2015-12\n",
       "2    117  MANHATTAN         28.0  2015-12\n",
       "3    344     QUEENS        105.0  2015-12\n",
       "4    344  MANHATTAN         13.0  2015-12"
      ]
     },
     "execution_count": 13,
     "metadata": {},
     "output_type": "execute_result"
    }
   ],
   "source": [
    "nyc_crime_data.head()"
   ]
  },
  {
   "cell_type": "code",
   "execution_count": 14,
   "metadata": {},
   "outputs": [],
   "source": [
    "nyc_crime_data.to_csv('NYC_CRIME_DATA_YRM_KYCD_PRECINCT.CSV')"
   ]
  },
  {
   "cell_type": "code",
   "execution_count": null,
   "metadata": {},
   "outputs": [],
   "source": [
    "# Nice method to check dates\n",
    "#[item for item in nyc_crime_data['CMPLNT_FR_DT'].unique()]"
   ]
  },
  {
   "cell_type": "code",
   "execution_count": 35,
   "metadata": {},
   "outputs": [],
   "source": [
    "import pandas as pd\n",
    "nyc_crime_data=pd.read_csv('NYC_CRIME_DATA_YRM_KYCD_PRECINCT.CSV')"
   ]
  },
  {
   "cell_type": "code",
   "execution_count": 36,
   "metadata": {},
   "outputs": [],
   "source": [
    "nyc_crime_data=nyc_crime_data[nyc_crime_data['YR_M']>'2011-12']"
   ]
  },
  {
   "cell_type": "code",
   "execution_count": 37,
   "metadata": {},
   "outputs": [],
   "source": [
    "manhattan_precinct_crime_cnt = nyc_crime_data[nyc_crime_data['BORO_NM']=='MANHATTAN'].drop(columns=['BORO_NM']\n",
    "                                                                                          ).groupby(['YR_M','ADDR_PCT_CD']).count()"
   ]
  },
  {
   "cell_type": "code",
   "execution_count": 38,
   "metadata": {},
   "outputs": [],
   "source": [
    "brooklyn_precinct_crime_cnt = nyc_crime_data[nyc_crime_data['BORO_NM']=='BROOKLYN'].drop(columns=['BORO_NM']\n",
    "                                                                                        ).groupby(['YR_M','ADDR_PCT_CD']).count()"
   ]
  },
  {
   "cell_type": "code",
   "execution_count": 39,
   "metadata": {},
   "outputs": [],
   "source": [
    "queens_precinct_crime_cnt = nyc_crime_data[nyc_crime_data[\"BORO_NM\"]==\"QUEENS\"].drop(columns=['BORO_NM']\n",
    "                                                                                    ).groupby(['YR_M','ADDR_PCT_CD']).count()"
   ]
  },
  {
   "cell_type": "code",
   "execution_count": 40,
   "metadata": {},
   "outputs": [],
   "source": [
    "bronx_precinct_crime_cnt = nyc_crime_data[nyc_crime_data[\"BORO_NM\"]==\"BRONX\"].drop(columns=['BORO_NM']\n",
    "                                                                                  ).groupby(['YR_M','ADDR_PCT_CD']).count()"
   ]
  },
  {
   "cell_type": "code",
   "execution_count": 41,
   "metadata": {},
   "outputs": [],
   "source": [
    "staten_island_precinct_crime_cnt = nyc_crime_data[nyc_crime_data[\"BORO_NM\"]==\"STATEN ISLAND\"].drop(columns=['BORO_NM']\n",
    "                                                                                                  ).groupby(['YR_M','ADDR_PCT_CD']).count()"
   ]
  },
  {
   "cell_type": "code",
   "execution_count": 42,
   "metadata": {},
   "outputs": [],
   "source": [
    "manhattan_precinct_crime_cnt=manhattan_precinct_crime_cnt.reset_index()\n",
    "manhattan_precinct_crime_cnt = manhattan_precinct_crime_cnt.rename(columns={'ADDR_PCT_CD':'Manhattan Precinct',\n",
    "                                'KY_CD':'MANHATTAN_precinct_Crime_Cnt'})"
   ]
  },
  {
   "cell_type": "code",
   "execution_count": 43,
   "metadata": {},
   "outputs": [],
   "source": [
    "brooklyn_precinct_crime_cnt=brooklyn_precinct_crime_cnt.reset_index()\n",
    "brooklyn_precinct_crime_cnt = brooklyn_precinct_crime_cnt.rename(columns={'ADDR_PCT_CD':'Brooklyn Precinct',\n",
    "                                                                          'KY_CD':'BROOKLYN_precinct_Crime_Cnt'})"
   ]
  },
  {
   "cell_type": "code",
   "execution_count": 44,
   "metadata": {},
   "outputs": [],
   "source": [
    "queens_precinct_crime_cnt=queens_precinct_crime_cnt.reset_index()\n",
    "queens_precinct_crime_cnt = queens_precinct_crime_cnt.rename(columns={'ADDR_PCT_CD':'Queens Precinct',\n",
    "                                                                      'KY_CD':'QUEENS_precinct_Crime_Cnt'})"
   ]
  },
  {
   "cell_type": "code",
   "execution_count": 45,
   "metadata": {},
   "outputs": [],
   "source": [
    "bronx_precinct_crime_cnt=bronx_precinct_crime_cnt.reset_index()\n",
    "bronx_precinct_crime_cnt = bronx_precinct_crime_cnt.rename(columns={'ADDR_PCT_CD':'Bronx Precinct',\n",
    "                                                                    'KY_CD':'BRONX_precinct_Crime_Cnt'})"
   ]
  },
  {
   "cell_type": "code",
   "execution_count": 46,
   "metadata": {},
   "outputs": [],
   "source": [
    "staten_island_precinct_crime_cnt=staten_island_precinct_crime_cnt.reset_index()\n",
    "staten_island_precinct_crime_cnt = staten_island_precinct_crime_cnt.rename(columns={'ADDR_PCT_CD':'Staten Island Precinct',\n",
    "                                                                                    'KY_CD':'STATEN_ISLAND_precinct_Crime_Cnt'})"
   ]
  },
  {
   "cell_type": "code",
   "execution_count": 47,
   "metadata": {},
   "outputs": [
    {
     "data": {
      "text/plain": [
       "<bound method DataFrame.info of          YR_M  Manhattan Precinct  MANHATTAN_precinct_Crime_Cnt\n",
       "0     2012-01                 1.0                           473\n",
       "1     2012-01                 5.0                           371\n",
       "2     2012-01                 6.0                           465\n",
       "3     2012-01                 7.0                           354\n",
       "4     2012-01                 9.0                           525\n",
       "5     2012-01                10.0                           344\n",
       "6     2012-01                13.0                           571\n",
       "7     2012-01                14.0                           904\n",
       "8     2012-01                17.0                           257\n",
       "9     2012-01                18.0                           652\n",
       "10    2012-01                19.0                           514\n",
       "11    2012-01                20.0                           317\n",
       "12    2012-01                22.0                            23\n",
       "13    2012-01                23.0                           522\n",
       "14    2012-01                24.0                           368\n",
       "15    2012-01                25.0                           617\n",
       "16    2012-01                26.0                           283\n",
       "17    2012-01                28.0                           449\n",
       "18    2012-01                30.0                           440\n",
       "19    2012-01                32.0                           590\n",
       "20    2012-01                33.0                           308\n",
       "21    2012-01                34.0                           437\n",
       "22    2012-02                 1.0                           478\n",
       "23    2012-02                 5.0                           380\n",
       "24    2012-02                 6.0                           432\n",
       "25    2012-02                 7.0                           310\n",
       "26    2012-02                 9.0                           464\n",
       "27    2012-02                10.0                           316\n",
       "28    2012-02                13.0                           539\n",
       "29    2012-02                14.0                           872\n",
       "...       ...                 ...                           ...\n",
       "1555  2017-11                24.0                           318\n",
       "1556  2017-11                25.0                           494\n",
       "1557  2017-11                26.0                           291\n",
       "1558  2017-11                28.0                           440\n",
       "1559  2017-11                30.0                           280\n",
       "1560  2017-11                32.0                           434\n",
       "1561  2017-11                33.0                           277\n",
       "1562  2017-11                34.0                           397\n",
       "1563  2017-12                 1.0                           489\n",
       "1564  2017-12                 5.0                           333\n",
       "1565  2017-12                 6.0                           334\n",
       "1566  2017-12                 7.0                           273\n",
       "1567  2017-12                 9.0                           380\n",
       "1568  2017-12                10.0                           269\n",
       "1569  2017-12                13.0                           488\n",
       "1570  2017-12                14.0                           856\n",
       "1571  2017-12                17.0                           313\n",
       "1572  2017-12                18.0                           642\n",
       "1573  2017-12                19.0                           503\n",
       "1574  2017-12                20.0                           290\n",
       "1575  2017-12                22.0                            15\n",
       "1576  2017-12                23.0                           444\n",
       "1577  2017-12                24.0                           337\n",
       "1578  2017-12                25.0                           425\n",
       "1579  2017-12                26.0                           195\n",
       "1580  2017-12                28.0                           382\n",
       "1581  2017-12                30.0                           241\n",
       "1582  2017-12                32.0                           429\n",
       "1583  2017-12                33.0                           292\n",
       "1584  2017-12                34.0                           363\n",
       "\n",
       "[1585 rows x 3 columns]>"
      ]
     },
     "execution_count": 47,
     "metadata": {},
     "output_type": "execute_result"
    }
   ],
   "source": [
    "manhattan_precinct_crime_cnt=manhattan_precinct_crime_cnt.drop(columns=['Unnamed: 0'])\n",
    "manhattan_precinct_crime_cnt.index\n",
    "manhattan_precinct_crime_cnt.info"
   ]
  },
  {
   "cell_type": "code",
   "execution_count": 48,
   "metadata": {},
   "outputs": [
    {
     "name": "stdout",
     "output_type": "stream",
     "text": [
      "      YR_M  Brooklyn Precinct  BROOKLYN_precinct_Crime_Cnt\n",
      "0  2012-01               60.0                          521\n",
      "1  2012-01               61.0                          473\n",
      "2  2012-01               62.0                          487\n",
      "3  2012-01               63.0                          431\n",
      "4  2012-01               66.0                          474\n"
     ]
    }
   ],
   "source": [
    "brooklyn_precinct_crime_cnt=brooklyn_precinct_crime_cnt.drop(columns=['Unnamed: 0'])\n",
    "brooklyn_precinct_crime_cnt.head().index\n",
    "print(brooklyn_precinct_crime_cnt.head())\n"
   ]
  },
  {
   "cell_type": "code",
   "execution_count": 49,
   "metadata": {},
   "outputs": [
    {
     "name": "stdout",
     "output_type": "stream",
     "text": [
      "      YR_M  Queens Precinct  QUEENS_precinct_Crime_Cnt\n",
      "0  2012-01            100.0                        197\n",
      "1  2012-01            101.0                        263\n",
      "2  2012-01            102.0                        532\n",
      "3  2012-01            103.0                        605\n",
      "4  2012-01            104.0                       1026\n"
     ]
    }
   ],
   "source": [
    "queens_precinct_crime_cnt=queens_precinct_crime_cnt.drop(columns=['Unnamed: 0'])\n",
    "queens_precinct_crime_cnt.head().index\n",
    "print(queens_precinct_crime_cnt.head())\n"
   ]
  },
  {
   "cell_type": "code",
   "execution_count": 50,
   "metadata": {},
   "outputs": [
    {
     "name": "stdout",
     "output_type": "stream",
     "text": [
      "      YR_M  Bronx Precinct  BRONX_precinct_Crime_Cnt\n",
      "0  2012-01            40.0                      1063\n",
      "1  2012-01            41.0                       632\n",
      "2  2012-01            42.0                       747\n",
      "3  2012-01            43.0                      1082\n",
      "4  2012-01            44.0                      1210\n"
     ]
    }
   ],
   "source": [
    "bronx_precinct_crime_cnt=bronx_precinct_crime_cnt.drop(columns=['Unnamed: 0'])\n",
    "bronx_precinct_crime_cnt.head().index\n",
    "print(bronx_precinct_crime_cnt.head())\n"
   ]
  },
  {
   "cell_type": "code",
   "execution_count": 51,
   "metadata": {},
   "outputs": [
    {
     "name": "stdout",
     "output_type": "stream",
     "text": [
      "      YR_M  Staten Island Precinct  STATEN_ISLAND_precinct_Crime_Cnt\n",
      "0  2012-01                   120.0                               944\n",
      "1  2012-01                   121.0                                 2\n",
      "2  2012-01                   122.0                               643\n",
      "3  2012-01                   123.0                               255\n",
      "4  2012-02                   120.0                               999\n"
     ]
    }
   ],
   "source": [
    "staten_island_precinct_crime_cnt=staten_island_precinct_crime_cnt.drop(columns=['Unnamed: 0'])\n",
    "staten_island_precinct_crime_cnt.head().index\n",
    "print(staten_island_precinct_crime_cnt.head())"
   ]
  },
  {
   "cell_type": "code",
   "execution_count": 52,
   "metadata": {},
   "outputs": [],
   "source": [
    "manhattan_precinct_crime_cnt=manhattan_precinct_crime_cnt.set_index('YR_M')\n",
    "brooklyn_precinct_crime_cnt=brooklyn_precinct_crime_cnt.set_index('YR_M')\n",
    "queens_precinct_crime_cnt=queens_precinct_crime_cnt.set_index('YR_M')\n",
    "bronx_precinct_crime_cnt=bronx_precinct_crime_cnt.set_index('YR_M')\n",
    "staten_island_precinct_crime_cnt=staten_island_precinct_crime_cnt.set_index('YR_M')\n"
   ]
  },
  {
   "cell_type": "code",
   "execution_count": 53,
   "metadata": {},
   "outputs": [],
   "source": [
    "manhattan_precinct_crime_cnt.to_csv('manhattan_precinct_Crime_Cnt.csv')"
   ]
  },
  {
   "cell_type": "code",
   "execution_count": 54,
   "metadata": {},
   "outputs": [],
   "source": [
    "brooklyn_precinct_crime_cnt.to_csv('brooklyn_precinct_Crime_Cnt.csv')"
   ]
  },
  {
   "cell_type": "code",
   "execution_count": 55,
   "metadata": {},
   "outputs": [],
   "source": [
    "queens_precinct_crime_cnt.to_csv('queens_precinct_Crime_Cnt.csv')"
   ]
  },
  {
   "cell_type": "code",
   "execution_count": 56,
   "metadata": {},
   "outputs": [],
   "source": [
    "bronx_precinct_crime_cnt.to_csv('bronx_precinct_Crime_Cnt.csv')"
   ]
  },
  {
   "cell_type": "code",
   "execution_count": 57,
   "metadata": {},
   "outputs": [],
   "source": [
    "staten_island_precinct_crime_cnt.to_csv('staten_island_precinct_Crime_Cnt.csv')"
   ]
  },
  {
   "cell_type": "code",
   "execution_count": null,
   "metadata": {},
   "outputs": [],
   "source": []
  },
  {
   "cell_type": "code",
   "execution_count": null,
   "metadata": {},
   "outputs": [],
   "source": []
  },
  {
   "cell_type": "code",
   "execution_count": null,
   "metadata": {},
   "outputs": [],
   "source": []
  },
  {
   "cell_type": "code",
   "execution_count": 140,
   "metadata": {},
   "outputs": [],
   "source": [
    "nyc_precinct_crime_cnt_df = manhattan_precinct_crime_cnt"
   ]
  },
  {
   "cell_type": "code",
   "execution_count": 141,
   "metadata": {},
   "outputs": [],
   "source": [
    "nyc_precinct_crime_cnt_df = nyc_precinct_crime_cnt_df.join(brooklyn_precinct_crime_cnt)"
   ]
  },
  {
   "cell_type": "code",
   "execution_count": 142,
   "metadata": {},
   "outputs": [],
   "source": [
    "nyc_precinct_crime_cnt_df = nyc_precinct_crime_cnt_df.join(queens_precinct_crime_cnt)"
   ]
  },
  {
   "cell_type": "code",
   "execution_count": 143,
   "metadata": {},
   "outputs": [],
   "source": [
    "nyc_precinct_crime_cnt_df = nyc_precinct_crime_cnt_df.join(bronx_precinct_crime_cnt)"
   ]
  },
  {
   "cell_type": "code",
   "execution_count": 144,
   "metadata": {},
   "outputs": [],
   "source": [
    "nyc_precinct_crime_cnt_df = nyc_precinct_crime_cnt_df.join(staten_island_precinct_crime_cnt)"
   ]
  },
  {
   "cell_type": "code",
   "execution_count": 146,
   "metadata": {},
   "outputs": [],
   "source": [
    "# DOES NOT WORK because YR_M is index nyc_crime_cnt_df = nyc_crime_cnt_df.rename(columns={'YR_M':'Date'})\n",
    "nyc_precinct_crime_cnt_df.index.rename('Date',inplace=True)"
   ]
  },
  {
   "cell_type": "code",
   "execution_count": 113,
   "metadata": {},
   "outputs": [],
   "source": [
    "nyc_precinct_crime_cnt_df.to_csv('NYC_precinct_Crime_Cnt.csv')"
   ]
  },
  {
   "cell_type": "code",
   "execution_count": null,
   "metadata": {},
   "outputs": [],
   "source": [
    "#nyc_crime_cnt_df.plot(kind='bar')"
   ]
  },
  {
   "cell_type": "code",
   "execution_count": null,
   "metadata": {},
   "outputs": [],
   "source": [
    "# Need to check why starts from 2006 not earlier!!!\n",
    "#nyc_crime_data['RPT_DT'].min()"
   ]
  }
 ],
 "metadata": {
  "kernelspec": {
   "display_name": "Python 3",
   "language": "python",
   "name": "python3"
  },
  "language_info": {
   "codemirror_mode": {
    "name": "ipython",
    "version": 3
   },
   "file_extension": ".py",
   "mimetype": "text/x-python",
   "name": "python",
   "nbconvert_exporter": "python",
   "pygments_lexer": "ipython3",
   "version": "3.6.5"
  }
 },
 "nbformat": 4,
 "nbformat_minor": 2
}
