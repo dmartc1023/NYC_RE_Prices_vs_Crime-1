{
 "cells": [
  {
   "cell_type": "code",
   "execution_count": 1,
   "metadata": {},
   "outputs": [],
   "source": [
    "# Dependencies and Setup\n",
    "%matplotlib inline\n",
    "import matplotlib.pyplot as plt\n",
    "import pandas as pd\n",
    "#import numpy as np\n",
    "#import dateutil\n",
    "# Hide warning messages in notebook\n",
    "import warnings\n",
    "warnings.filterwarnings('ignore')\n",
    "\n",
    "\n",
    "# this code written by Paul AG\n",
    "\n",
    "#CSV files outputed from NYC_CrimeCnt_AvgPriceSqFt_AvgRent_by_Boro_Bar_Plots\n",
    "\n",
    "boro=['Manhattan', 'Bronx', 'Brooklyn', 'Queens', 'Staten Island']\n",
    "# Kings is synomous with Brooklyn (same land mass)\n",
    "county=['New York', 'Bronx', 'Kings', 'Queens', 'Richmond']\n"
   ]
  },
  {
   "cell_type": "code",
   "execution_count": 2,
   "metadata": {},
   "outputs": [],
   "source": [
    "nyc_crime_df=pd.read_csv(\"nyc_crime_yr_df.csv\")"
   ]
  },
  {
   "cell_type": "code",
   "execution_count": 3,
   "metadata": {},
   "outputs": [],
   "source": [
    "manhattan_crime_df=pd.DataFrame(nyc_crime_df,columns=['YR','MANHATTAN Crime Cnt'])"
   ]
  },
  {
   "cell_type": "code",
   "execution_count": 4,
   "metadata": {},
   "outputs": [],
   "source": [
    "brooklyn_crime_df=pd.DataFrame(nyc_crime_df,columns=['YR','BROOKLYN Crime Cnt'])"
   ]
  },
  {
   "cell_type": "code",
   "execution_count": 5,
   "metadata": {},
   "outputs": [],
   "source": [
    "queens_crime_df=pd.DataFrame(nyc_crime_df,columns=['YR','QUEENS Crime Cnt'])"
   ]
  },
  {
   "cell_type": "code",
   "execution_count": 6,
   "metadata": {},
   "outputs": [],
   "source": [
    "bronx_crime_df=pd.DataFrame(nyc_crime_df,columns=['YR','BRONX Crime Cnt'])"
   ]
  },
  {
   "cell_type": "code",
   "execution_count": 7,
   "metadata": {},
   "outputs": [],
   "source": [
    "staten_island_crime_df=pd.DataFrame(nyc_crime_df,columns=['YR','STATEN ISLAND Crime Cnt'])"
   ]
  },
  {
   "cell_type": "code",
   "execution_count": 8,
   "metadata": {},
   "outputs": [
    {
     "data": {
      "text/html": [
       "<div>\n",
       "<style scoped>\n",
       "    .dataframe tbody tr th:only-of-type {\n",
       "        vertical-align: middle;\n",
       "    }\n",
       "\n",
       "    .dataframe tbody tr th {\n",
       "        vertical-align: top;\n",
       "    }\n",
       "\n",
       "    .dataframe thead th {\n",
       "        text-align: right;\n",
       "    }\n",
       "</style>\n",
       "<table border=\"1\" class=\"dataframe\">\n",
       "  <thead>\n",
       "    <tr style=\"text-align: right;\">\n",
       "      <th></th>\n",
       "      <th>YR</th>\n",
       "      <th>MANHATTAN Crime Cnt</th>\n",
       "    </tr>\n",
       "  </thead>\n",
       "  <tbody>\n",
       "    <tr>\n",
       "      <th>0</th>\n",
       "      <td>2012</td>\n",
       "      <td>119956</td>\n",
       "    </tr>\n",
       "    <tr>\n",
       "      <th>1</th>\n",
       "      <td>2013</td>\n",
       "      <td>117883</td>\n",
       "    </tr>\n",
       "    <tr>\n",
       "      <th>2</th>\n",
       "      <td>2014</td>\n",
       "      <td>113398</td>\n",
       "    </tr>\n",
       "    <tr>\n",
       "      <th>3</th>\n",
       "      <td>2015</td>\n",
       "      <td>112890</td>\n",
       "    </tr>\n",
       "    <tr>\n",
       "      <th>4</th>\n",
       "      <td>2016</td>\n",
       "      <td>115174</td>\n",
       "    </tr>\n",
       "    <tr>\n",
       "      <th>5</th>\n",
       "      <td>2017</td>\n",
       "      <td>111646</td>\n",
       "    </tr>\n",
       "  </tbody>\n",
       "</table>\n",
       "</div>"
      ],
      "text/plain": [
       "     YR  MANHATTAN Crime Cnt\n",
       "0  2012               119956\n",
       "1  2013               117883\n",
       "2  2014               113398\n",
       "3  2015               112890\n",
       "4  2016               115174\n",
       "5  2017               111646"
      ]
     },
     "execution_count": 8,
     "metadata": {},
     "output_type": "execute_result"
    }
   ],
   "source": [
    "manhattan_crime_df"
   ]
  },
  {
   "cell_type": "code",
   "execution_count": 9,
   "metadata": {},
   "outputs": [],
   "source": [
    "#brooklyn_crime_df=brooklyn_crime_df.rename(columns={'BROOKLYN_Crime_Cnt':'Brooklyn Crime Cnt'})"
   ]
  },
  {
   "cell_type": "code",
   "execution_count": 10,
   "metadata": {},
   "outputs": [
    {
     "data": {
      "text/html": [
       "<div>\n",
       "<style scoped>\n",
       "    .dataframe tbody tr th:only-of-type {\n",
       "        vertical-align: middle;\n",
       "    }\n",
       "\n",
       "    .dataframe tbody tr th {\n",
       "        vertical-align: top;\n",
       "    }\n",
       "\n",
       "    .dataframe thead th {\n",
       "        text-align: right;\n",
       "    }\n",
       "</style>\n",
       "<table border=\"1\" class=\"dataframe\">\n",
       "  <thead>\n",
       "    <tr style=\"text-align: right;\">\n",
       "      <th></th>\n",
       "      <th>YR</th>\n",
       "      <th>BROOKLYN Crime Cnt</th>\n",
       "    </tr>\n",
       "  </thead>\n",
       "  <tbody>\n",
       "    <tr>\n",
       "      <th>0</th>\n",
       "      <td>2012</td>\n",
       "      <td>154802.0</td>\n",
       "    </tr>\n",
       "    <tr>\n",
       "      <th>1</th>\n",
       "      <td>2013</td>\n",
       "      <td>149725.0</td>\n",
       "    </tr>\n",
       "    <tr>\n",
       "      <th>2</th>\n",
       "      <td>2014</td>\n",
       "      <td>148804.0</td>\n",
       "    </tr>\n",
       "    <tr>\n",
       "      <th>3</th>\n",
       "      <td>2015</td>\n",
       "      <td>142855.0</td>\n",
       "    </tr>\n",
       "    <tr>\n",
       "      <th>4</th>\n",
       "      <td>2016</td>\n",
       "      <td>140162.0</td>\n",
       "    </tr>\n",
       "    <tr>\n",
       "      <th>5</th>\n",
       "      <td>2017</td>\n",
       "      <td>134713.0</td>\n",
       "    </tr>\n",
       "  </tbody>\n",
       "</table>\n",
       "</div>"
      ],
      "text/plain": [
       "     YR  BROOKLYN Crime Cnt\n",
       "0  2012            154802.0\n",
       "1  2013            149725.0\n",
       "2  2014            148804.0\n",
       "3  2015            142855.0\n",
       "4  2016            140162.0\n",
       "5  2017            134713.0"
      ]
     },
     "execution_count": 10,
     "metadata": {},
     "output_type": "execute_result"
    }
   ],
   "source": [
    "brooklyn_crime_df"
   ]
  },
  {
   "cell_type": "code",
   "execution_count": 11,
   "metadata": {},
   "outputs": [
    {
     "data": {
      "text/plain": [
       "-12.977222516504956"
      ]
     },
     "execution_count": 11,
     "metadata": {},
     "output_type": "execute_result"
    }
   ],
   "source": [
    "brooklyn_crime_df_5YR_diff2=brooklyn_crime_df['BROOKLYN Crime Cnt'].diff()\n",
    "brooklyn_crime_df_5YR_perc_diff2=brooklyn_crime_df_5YR_diff2.sum()/brooklyn_crime_df['BROOKLYN Crime Cnt'][0]*100\n",
    "brooklyn_crime_df_5YR_perc_diff2"
   ]
  },
  {
   "cell_type": "code",
   "execution_count": 12,
   "metadata": {},
   "outputs": [],
   "source": [
    "nyc_price_df=pd.read_csv(\"nyc_avg_price_sqft_yr_df.csv\")"
   ]
  },
  {
   "cell_type": "code",
   "execution_count": 13,
   "metadata": {},
   "outputs": [],
   "source": [
    "manhattan_price_df=pd.DataFrame(nyc_price_df,columns=['YR','Manhattan Avg Price per sqft'])"
   ]
  },
  {
   "cell_type": "code",
   "execution_count": 14,
   "metadata": {},
   "outputs": [
    {
     "data": {
      "text/html": [
       "<div>\n",
       "<style scoped>\n",
       "    .dataframe tbody tr th:only-of-type {\n",
       "        vertical-align: middle;\n",
       "    }\n",
       "\n",
       "    .dataframe tbody tr th {\n",
       "        vertical-align: top;\n",
       "    }\n",
       "\n",
       "    .dataframe thead th {\n",
       "        text-align: right;\n",
       "    }\n",
       "</style>\n",
       "<table border=\"1\" class=\"dataframe\">\n",
       "  <thead>\n",
       "    <tr style=\"text-align: right;\">\n",
       "      <th></th>\n",
       "      <th>YR</th>\n",
       "      <th>Manhattan Avg Price per sqft</th>\n",
       "    </tr>\n",
       "  </thead>\n",
       "  <tbody>\n",
       "    <tr>\n",
       "      <th>0</th>\n",
       "      <td>2012</td>\n",
       "      <td>1033.476667</td>\n",
       "    </tr>\n",
       "    <tr>\n",
       "      <th>1</th>\n",
       "      <td>2013</td>\n",
       "      <td>1133.230000</td>\n",
       "    </tr>\n",
       "    <tr>\n",
       "      <th>2</th>\n",
       "      <td>2014</td>\n",
       "      <td>1283.083333</td>\n",
       "    </tr>\n",
       "    <tr>\n",
       "      <th>3</th>\n",
       "      <td>2015</td>\n",
       "      <td>1375.263333</td>\n",
       "    </tr>\n",
       "    <tr>\n",
       "      <th>4</th>\n",
       "      <td>2016</td>\n",
       "      <td>1432.233333</td>\n",
       "    </tr>\n",
       "    <tr>\n",
       "      <th>5</th>\n",
       "      <td>2017</td>\n",
       "      <td>1430.273333</td>\n",
       "    </tr>\n",
       "  </tbody>\n",
       "</table>\n",
       "</div>"
      ],
      "text/plain": [
       "     YR  Manhattan Avg Price per sqft\n",
       "0  2012                   1033.476667\n",
       "1  2013                   1133.230000\n",
       "2  2014                   1283.083333\n",
       "3  2015                   1375.263333\n",
       "4  2016                   1432.233333\n",
       "5  2017                   1430.273333"
      ]
     },
     "execution_count": 14,
     "metadata": {},
     "output_type": "execute_result"
    }
   ],
   "source": [
    "manhattan_price_df"
   ]
  },
  {
   "cell_type": "code",
   "execution_count": 15,
   "metadata": {},
   "outputs": [],
   "source": [
    "brooklyn_price_df=pd.DataFrame(nyc_price_df,columns=['YR','Brooklyn Avg Price per sqft'])"
   ]
  },
  {
   "cell_type": "code",
   "execution_count": 16,
   "metadata": {},
   "outputs": [
    {
     "data": {
      "text/html": [
       "<div>\n",
       "<style scoped>\n",
       "    .dataframe tbody tr th:only-of-type {\n",
       "        vertical-align: middle;\n",
       "    }\n",
       "\n",
       "    .dataframe tbody tr th {\n",
       "        vertical-align: top;\n",
       "    }\n",
       "\n",
       "    .dataframe thead th {\n",
       "        text-align: right;\n",
       "    }\n",
       "</style>\n",
       "<table border=\"1\" class=\"dataframe\">\n",
       "  <thead>\n",
       "    <tr style=\"text-align: right;\">\n",
       "      <th></th>\n",
       "      <th>YR</th>\n",
       "      <th>Brooklyn Avg Price per sqft</th>\n",
       "    </tr>\n",
       "  </thead>\n",
       "  <tbody>\n",
       "    <tr>\n",
       "      <th>0</th>\n",
       "      <td>2012</td>\n",
       "      <td>454.848837</td>\n",
       "    </tr>\n",
       "    <tr>\n",
       "      <th>1</th>\n",
       "      <td>2013</td>\n",
       "      <td>493.604651</td>\n",
       "    </tr>\n",
       "    <tr>\n",
       "      <th>2</th>\n",
       "      <td>2014</td>\n",
       "      <td>552.040698</td>\n",
       "    </tr>\n",
       "    <tr>\n",
       "      <th>3</th>\n",
       "      <td>2015</td>\n",
       "      <td>616.941860</td>\n",
       "    </tr>\n",
       "    <tr>\n",
       "      <th>4</th>\n",
       "      <td>2016</td>\n",
       "      <td>671.180233</td>\n",
       "    </tr>\n",
       "    <tr>\n",
       "      <th>5</th>\n",
       "      <td>2017</td>\n",
       "      <td>708.587209</td>\n",
       "    </tr>\n",
       "  </tbody>\n",
       "</table>\n",
       "</div>"
      ],
      "text/plain": [
       "     YR  Brooklyn Avg Price per sqft\n",
       "0  2012                   454.848837\n",
       "1  2013                   493.604651\n",
       "2  2014                   552.040698\n",
       "3  2015                   616.941860\n",
       "4  2016                   671.180233\n",
       "5  2017                   708.587209"
      ]
     },
     "execution_count": 16,
     "metadata": {},
     "output_type": "execute_result"
    }
   ],
   "source": [
    "brooklyn_price_df"
   ]
  },
  {
   "cell_type": "code",
   "execution_count": 17,
   "metadata": {},
   "outputs": [],
   "source": [
    "queens_price_df=pd.DataFrame(nyc_price_df,columns=['YR','Queens Avg Price per sqft'])"
   ]
  },
  {
   "cell_type": "code",
   "execution_count": 18,
   "metadata": {},
   "outputs": [],
   "source": [
    "bronx_price_df=pd.DataFrame(nyc_price_df,columns=['YR','Bronx Avg Price per sqft'])"
   ]
  },
  {
   "cell_type": "code",
   "execution_count": 19,
   "metadata": {},
   "outputs": [],
   "source": [
    "staten_island_price_df=pd.DataFrame(nyc_price_df,columns=['YR','Staten Island Avg Price per sqft'])"
   ]
  },
  {
   "cell_type": "code",
   "execution_count": 20,
   "metadata": {},
   "outputs": [],
   "source": [
    "nyc_rent_df=pd.read_csv(\"nyc_avg_rent_yr_df.csv\")"
   ]
  },
  {
   "cell_type": "code",
   "execution_count": 21,
   "metadata": {},
   "outputs": [],
   "source": [
    "manhattan_rent_df=pd.DataFrame(nyc_rent_df,columns=['YR','Manhattan avg rental price'])"
   ]
  },
  {
   "cell_type": "code",
   "execution_count": 22,
   "metadata": {},
   "outputs": [],
   "source": [
    "brooklyn_rent_df=pd.DataFrame(nyc_rent_df,columns=['YR','Brooklyn avg rental price'])"
   ]
  },
  {
   "cell_type": "code",
   "execution_count": 23,
   "metadata": {},
   "outputs": [],
   "source": [
    "brooklyn_rent_df=brooklyn_rent_df.rename(columns={'Brooklyn avg rental price':'Brooklyn Avg Rent'})"
   ]
  },
  {
   "cell_type": "code",
   "execution_count": 24,
   "metadata": {},
   "outputs": [],
   "source": [
    "queens_rent_df=pd.DataFrame(nyc_rent_df,columns=['YR','Queens avg rental price'])"
   ]
  },
  {
   "cell_type": "code",
   "execution_count": 25,
   "metadata": {},
   "outputs": [],
   "source": [
    "queens_rent_df=queens_rent_df.rename(columns={'Queens avg rental price':'Queens Avg Rent'})"
   ]
  },
  {
   "cell_type": "code",
   "execution_count": 26,
   "metadata": {},
   "outputs": [],
   "source": [
    "bronx_rent_df=pd.DataFrame(nyc_rent_df,columns=['YR','Bronx avg rental price'])"
   ]
  },
  {
   "cell_type": "code",
   "execution_count": 27,
   "metadata": {},
   "outputs": [],
   "source": [
    "bronx_rent_df=bronx_rent_df.rename(columns={'Bronx avg rental price':'Bronx Avg Rent'})"
   ]
  },
  {
   "cell_type": "code",
   "execution_count": 28,
   "metadata": {},
   "outputs": [],
   "source": [
    "staten_island_rent_df=pd.DataFrame(nyc_rent_df,columns=['YR','Staten Island avg rental price'])"
   ]
  },
  {
   "cell_type": "code",
   "execution_count": 29,
   "metadata": {},
   "outputs": [],
   "source": [
    "staten_island_rent_df=staten_island_rent_df.rename(columns={'Staten Island avg rental price':'Staten Island Avg Rent'})"
   ]
  },
  {
   "cell_type": "code",
   "execution_count": 30,
   "metadata": {},
   "outputs": [
    {
     "data": {
      "text/html": [
       "<div>\n",
       "<style scoped>\n",
       "    .dataframe tbody tr th:only-of-type {\n",
       "        vertical-align: middle;\n",
       "    }\n",
       "\n",
       "    .dataframe tbody tr th {\n",
       "        vertical-align: top;\n",
       "    }\n",
       "\n",
       "    .dataframe thead th {\n",
       "        text-align: right;\n",
       "    }\n",
       "</style>\n",
       "<table border=\"1\" class=\"dataframe\">\n",
       "  <thead>\n",
       "    <tr style=\"text-align: right;\">\n",
       "      <th></th>\n",
       "      <th>YR</th>\n",
       "      <th>Brooklyn Avg Rent</th>\n",
       "    </tr>\n",
       "  </thead>\n",
       "  <tbody>\n",
       "    <tr>\n",
       "      <th>0</th>\n",
       "      <td>2012</td>\n",
       "      <td>1858.980903</td>\n",
       "    </tr>\n",
       "    <tr>\n",
       "      <th>1</th>\n",
       "      <td>2013</td>\n",
       "      <td>2042.012153</td>\n",
       "    </tr>\n",
       "    <tr>\n",
       "      <th>2</th>\n",
       "      <td>2014</td>\n",
       "      <td>2194.678819</td>\n",
       "    </tr>\n",
       "    <tr>\n",
       "      <th>3</th>\n",
       "      <td>2015</td>\n",
       "      <td>2333.333333</td>\n",
       "    </tr>\n",
       "    <tr>\n",
       "      <th>4</th>\n",
       "      <td>2016</td>\n",
       "      <td>2427.928819</td>\n",
       "    </tr>\n",
       "    <tr>\n",
       "      <th>5</th>\n",
       "      <td>2017</td>\n",
       "      <td>2458.456597</td>\n",
       "    </tr>\n",
       "  </tbody>\n",
       "</table>\n",
       "</div>"
      ],
      "text/plain": [
       "     YR  Brooklyn Avg Rent\n",
       "0  2012        1858.980903\n",
       "1  2013        2042.012153\n",
       "2  2014        2194.678819\n",
       "3  2015        2333.333333\n",
       "4  2016        2427.928819\n",
       "5  2017        2458.456597"
      ]
     },
     "execution_count": 30,
     "metadata": {},
     "output_type": "execute_result"
    }
   ],
   "source": [
    "brooklyn_rent_df"
   ]
  },
  {
   "cell_type": "code",
   "execution_count": 31,
   "metadata": {},
   "outputs": [],
   "source": [
    "manhattan_rent_df=manhattan_rent_df.rename(columns={'Manhattan avg rental price':'Manhattan Avg Rent'})"
   ]
  },
  {
   "cell_type": "code",
   "execution_count": 32,
   "metadata": {},
   "outputs": [
    {
     "data": {
      "text/html": [
       "<div>\n",
       "<style scoped>\n",
       "    .dataframe tbody tr th:only-of-type {\n",
       "        vertical-align: middle;\n",
       "    }\n",
       "\n",
       "    .dataframe tbody tr th {\n",
       "        vertical-align: top;\n",
       "    }\n",
       "\n",
       "    .dataframe thead th {\n",
       "        text-align: right;\n",
       "    }\n",
       "</style>\n",
       "<table border=\"1\" class=\"dataframe\">\n",
       "  <thead>\n",
       "    <tr style=\"text-align: right;\">\n",
       "      <th></th>\n",
       "      <th>YR</th>\n",
       "      <th>Manhattan Avg Rent</th>\n",
       "    </tr>\n",
       "  </thead>\n",
       "  <tbody>\n",
       "    <tr>\n",
       "      <th>0</th>\n",
       "      <td>2012</td>\n",
       "      <td>3075.647436</td>\n",
       "    </tr>\n",
       "    <tr>\n",
       "      <th>1</th>\n",
       "      <td>2013</td>\n",
       "      <td>3186.294872</td>\n",
       "    </tr>\n",
       "    <tr>\n",
       "      <th>2</th>\n",
       "      <td>2014</td>\n",
       "      <td>3421.733974</td>\n",
       "    </tr>\n",
       "    <tr>\n",
       "      <th>3</th>\n",
       "      <td>2015</td>\n",
       "      <td>3786.842949</td>\n",
       "    </tr>\n",
       "    <tr>\n",
       "      <th>4</th>\n",
       "      <td>2016</td>\n",
       "      <td>3778.961538</td>\n",
       "    </tr>\n",
       "    <tr>\n",
       "      <th>5</th>\n",
       "      <td>2017</td>\n",
       "      <td>3670.596154</td>\n",
       "    </tr>\n",
       "  </tbody>\n",
       "</table>\n",
       "</div>"
      ],
      "text/plain": [
       "     YR  Manhattan Avg Rent\n",
       "0  2012         3075.647436\n",
       "1  2013         3186.294872\n",
       "2  2014         3421.733974\n",
       "3  2015         3786.842949\n",
       "4  2016         3778.961538\n",
       "5  2017         3670.596154"
      ]
     },
     "execution_count": 32,
     "metadata": {},
     "output_type": "execute_result"
    }
   ],
   "source": [
    "manhattan_rent_df"
   ]
  },
  {
   "cell_type": "code",
   "execution_count": 33,
   "metadata": {},
   "outputs": [
    {
     "data": {
      "text/plain": [
       "-6.927540098035946"
      ]
     },
     "execution_count": 33,
     "metadata": {},
     "output_type": "execute_result"
    }
   ],
   "source": [
    "manhattan_crime_df_5YR_diff=manhattan_crime_df['MANHATTAN Crime Cnt'][5]-manhattan_crime_df['MANHATTAN Crime Cnt'][0]\n",
    "manhattan_crime_df_5YR_perc_diff=manhattan_crime_df_5YR_diff/manhattan_crime_df['MANHATTAN Crime Cnt'][0]*100\n",
    "manhattan_crime_df_5YR_perc_diff"
   ]
  },
  {
   "cell_type": "code",
   "execution_count": 34,
   "metadata": {},
   "outputs": [
    {
     "data": {
      "text/plain": [
       "38.394351751208724"
      ]
     },
     "execution_count": 34,
     "metadata": {},
     "output_type": "execute_result"
    }
   ],
   "source": [
    "manhattan_price_df_5YR_diff2=manhattan_price_df['Manhattan Avg Price per sqft'].diff()\n",
    "manhattan_price_df_5YR_perc_diff2=manhattan_price_df_5YR_diff2.sum()/manhattan_price_df['Manhattan Avg Price per sqft'][0]*100\n",
    "manhattan_price_df_5YR_perc_diff2"
   ]
  },
  {
   "cell_type": "code",
   "execution_count": 35,
   "metadata": {},
   "outputs": [
    {
     "data": {
      "text/plain": [
       "19.34385297237814"
      ]
     },
     "execution_count": 35,
     "metadata": {},
     "output_type": "execute_result"
    }
   ],
   "source": [
    "manhattan_rent_df_5YR_diff2=manhattan_rent_df['Manhattan Avg Rent'].diff()\n",
    "manhattan_rent_df_5YR_perc_diff2=manhattan_rent_df_5YR_diff2.sum()/manhattan_rent_df['Manhattan Avg Rent'][0]*100\n",
    "manhattan_rent_df_5YR_perc_diff2"
   ]
  },
  {
   "cell_type": "code",
   "execution_count": 36,
   "metadata": {},
   "outputs": [
    {
     "data": {
      "text/plain": [
       "-12.977222516504956"
      ]
     },
     "execution_count": 36,
     "metadata": {},
     "output_type": "execute_result"
    }
   ],
   "source": [
    "brooklyn_crime_df_5YR_diff=brooklyn_crime_df['BROOKLYN Crime Cnt'][5]-brooklyn_crime_df['BROOKLYN Crime Cnt'][0]\n",
    "brooklyn_crime_df_5YR_perc_diff=brooklyn_crime_df_5YR_diff/brooklyn_crime_df['BROOKLYN Crime Cnt'][0]*100\n",
    "brooklyn_crime_df_5YR_perc_diff"
   ]
  },
  {
   "cell_type": "code",
   "execution_count": 37,
   "metadata": {},
   "outputs": [
    {
     "data": {
      "text/plain": [
       "55.78520847713268"
      ]
     },
     "execution_count": 37,
     "metadata": {},
     "output_type": "execute_result"
    }
   ],
   "source": [
    "brooklyn_price_df_5YR_diff2=brooklyn_price_df['Brooklyn Avg Price per sqft'].diff()\n",
    "brooklyn_price_df_5YR_perc_diff2=brooklyn_price_df_5YR_diff2.sum()/brooklyn_price_df['Brooklyn Avg Price per sqft'][0]*100\n",
    "brooklyn_price_df_5YR_perc_diff2"
   ]
  },
  {
   "cell_type": "code",
   "execution_count": 38,
   "metadata": {},
   "outputs": [
    {
     "data": {
      "text/plain": [
       "32.24754453091362"
      ]
     },
     "execution_count": 38,
     "metadata": {},
     "output_type": "execute_result"
    }
   ],
   "source": [
    "brooklyn_rent_df_5YR_diff2=brooklyn_rent_df['Brooklyn Avg Rent'].diff()\n",
    "brooklyn_rent_df_5YR_perc_diff2=brooklyn_rent_df_5YR_diff2.sum()/brooklyn_rent_df['Brooklyn Avg Rent'][0]*100\n",
    "brooklyn_rent_df_5YR_perc_diff2"
   ]
  },
  {
   "cell_type": "code",
   "execution_count": 39,
   "metadata": {},
   "outputs": [
    {
     "data": {
      "text/plain": [
       "Index(['Unnamed: 0', 'YR', 'MANHATTAN Crime Cnt', 'BROOKLYN Crime Cnt',\n",
       "       'QUEENS Crime Cnt', 'BRONX Crime Cnt', 'STATEN ISLAND Crime Cnt'],\n",
       "      dtype='object')"
      ]
     },
     "execution_count": 39,
     "metadata": {},
     "output_type": "execute_result"
    }
   ],
   "source": [
    "nyc_crime_df.columns"
   ]
  },
  {
   "cell_type": "code",
   "execution_count": 40,
   "metadata": {},
   "outputs": [
    {
     "data": {
      "text/plain": [
       "-9.737627556165046"
      ]
     },
     "execution_count": 40,
     "metadata": {},
     "output_type": "execute_result"
    }
   ],
   "source": [
    "queens_crime_df_5YR_diff2=queens_crime_df['QUEENS Crime Cnt'].diff()\n",
    "queens_crime_df_5YR_perc_diff2=queens_crime_df_5YR_diff2.sum()/queens_crime_df['QUEENS Crime Cnt'][0]*100\n",
    "queens_crime_df_5YR_perc_diff2"
   ]
  },
  {
   "cell_type": "code",
   "execution_count": 41,
   "metadata": {},
   "outputs": [
    {
     "data": {
      "text/plain": [
       "41.06541069470953"
      ]
     },
     "execution_count": 41,
     "metadata": {},
     "output_type": "execute_result"
    }
   ],
   "source": [
    "queens_price_df_5YR_diff2=queens_price_df['Queens Avg Price per sqft'].diff()\n",
    "queens_price_df_5YR_perc_diff2=queens_price_df_5YR_diff2.sum()/queens_price_df['Queens Avg Price per sqft'][0]*100\n",
    "queens_price_df_5YR_perc_diff2"
   ]
  },
  {
   "cell_type": "code",
   "execution_count": 42,
   "metadata": {},
   "outputs": [
    {
     "data": {
      "text/plain": [
       "31.837030893634644"
      ]
     },
     "execution_count": 42,
     "metadata": {},
     "output_type": "execute_result"
    }
   ],
   "source": [
    "queens_rent_df_5YR_diff2=queens_rent_df['Queens Avg Rent'].diff()\n",
    "queens_rent_df_5YR_perc_diff2=queens_rent_df_5YR_diff2.sum()/queens_rent_df['Queens Avg Rent'][0]*100\n",
    "queens_rent_df_5YR_perc_diff2"
   ]
  },
  {
   "cell_type": "code",
   "execution_count": 43,
   "metadata": {},
   "outputs": [],
   "source": [
    "bronx_crime_df_5YR_diff2=bronx_crime_df['BRONX Crime Cnt'].diff()\n",
    "bronx_crime_df_5YR_perc_diff2=bronx_crime_df_5YR_diff2.sum()/bronx_crime_df['BRONX Crime Cnt'][0]*100\n",
    "\n",
    "\n",
    "bronx_price_df_5YR_diff2=bronx_price_df['Bronx Avg Price per sqft'].diff()\n",
    "bronx_price_df_5YR_perc_diff2=bronx_price_df_5YR_diff2.sum()/bronx_price_df['Bronx Avg Price per sqft'][0]*100\n",
    "\n",
    "bronx_rent_df_5YR_diff2=bronx_rent_df['Bronx Avg Rent'].diff()\n",
    "bronx_rent_df_5YR_perc_diff2=bronx_rent_df_5YR_diff2.sum()/bronx_rent_df['Bronx Avg Rent'][0]*100\n"
   ]
  },
  {
   "cell_type": "code",
   "execution_count": 44,
   "metadata": {},
   "outputs": [],
   "source": [
    "staten_island_crime_df_5YR_diff2=staten_island_crime_df['STATEN ISLAND Crime Cnt'].diff()\n",
    "staten_island_crime_df_5YR_perc_diff2=staten_island_crime_df_5YR_diff2.sum()/staten_island_crime_df['STATEN ISLAND Crime Cnt'][0]*100\n",
    "\n",
    "staten_island_price_df_5YR_diff2=staten_island_price_df['Staten Island Avg Price per sqft'].diff()\n",
    "staten_island_price_df_5YR_perc_diff2=staten_island_price_df_5YR_diff2.sum()/staten_island_price_df['Staten Island Avg Price per sqft'][0]*100\n",
    "\n",
    "staten_island_rent_df_5YR_diff2=staten_island_rent_df['Staten Island Avg Rent'].diff()\n",
    "staten_island_rent_df_5YR_perc_diff2=staten_island_rent_df_5YR_diff2.sum()/staten_island_rent_df['Staten Island Avg Rent'][0]*100"
   ]
  },
  {
   "cell_type": "code",
   "execution_count": 45,
   "metadata": {},
   "outputs": [],
   "source": [
    "manhattan_5YR_analysis_df=pd.DataFrame({'Manhattan Crime Count 5yrs Decrease (%)':[manhattan_crime_df_5YR_perc_diff],\n",
    "                'Manhattan Crime Count YR2017':manhattan_crime_df['MANHATTAN Crime Cnt'][5],\n",
    "                 'Manhattan Avg Price per SqFt 5yrs Increase (%)':[manhattan_price_df_5YR_perc_diff2],\n",
    "            'Manhattan Max Avg Price per SqFt 5yrs': manhattan_price_df['Manhattan Avg Price per sqft'].max(),\n",
    "                 'Manhattan Avg Rent 5yrs Increase (%)':[manhattan_rent_df_5YR_perc_diff2],\n",
    "                'Manhattan Max Avg Rent 5yrs':manhattan_rent_df['Manhattan Avg Rent'].max()})"
   ]
  },
  {
   "cell_type": "code",
   "execution_count": 46,
   "metadata": {},
   "outputs": [],
   "source": [
    "brooklyn_5YR_analysis_df=pd.DataFrame({'Brooklyn Crime Count 5yrs Decrease (%)':[brooklyn_crime_df_5YR_perc_diff],\n",
    "            'Brooklyn Crime Count YR2017':brooklyn_crime_df['BROOKLYN Crime Cnt'][5],\n",
    "                 'Brooklyn Avg Price per SqFt 5yrs Increase (%)':[brooklyn_price_df_5YR_perc_diff2],\n",
    "           'Brooklyn Max Avg Price per SqFt 5yrs': brooklyn_price_df['Brooklyn Avg Price per sqft'].max(),\n",
    "                 'Brooklyn Avg Rent 5yrs Increase (%)':[brooklyn_rent_df_5YR_perc_diff2],\n",
    "              'Brooklyn Max Avg Rent 5yrs':brooklyn_rent_df['Brooklyn Avg Rent'].max()\n",
    "                                      })"
   ]
  },
  {
   "cell_type": "code",
   "execution_count": 47,
   "metadata": {},
   "outputs": [],
   "source": [
    "queens_5YR_analysis_df=pd.DataFrame({'Queens Crime Count 5yrs Decrease (%)':[queens_crime_df_5YR_perc_diff2],\n",
    "                'Queens Crime Count YR2017':queens_crime_df['QUEENS Crime Cnt'][5],\n",
    "                 'Queens Avg Price per SqFt 5yrs Increase (%)':[queens_price_df_5YR_perc_diff2],\n",
    "                'Queens Max Avg Price per SqFt 5yrs': queens_price_df['Queens Avg Price per sqft'].max(),\n",
    "                 'Queens Avg Rent 5yrs Increase (%)':[queens_rent_df_5YR_perc_diff2],\n",
    "                'Queens Max Avg Rent 5yrs':queens_rent_df['Queens Avg Rent'].max()})"
   ]
  },
  {
   "cell_type": "code",
   "execution_count": 48,
   "metadata": {},
   "outputs": [],
   "source": [
    "bronx_5YR_analysis_df=pd.DataFrame({'Bronx Crime Count 5yrs Decrease (%)':[bronx_crime_df_5YR_perc_diff2],\n",
    "                'Bronx Crime Count YR2017':bronx_crime_df['BRONX Crime Cnt'][5],\n",
    "                 'Bronx Avg Price per SqFt 5yrs Increase (%)':[bronx_price_df_5YR_perc_diff2],\n",
    "                'Bronx Max Avg Price per SqFt 5yrs': bronx_price_df['Bronx Avg Price per sqft'].max(),\n",
    "                 'Bronx Avg Rent 5yrs Increase (%)':[bronx_rent_df_5YR_perc_diff2],\n",
    "                'Bronx Max Avg Rent 5yrs':bronx_rent_df['Bronx Avg Rent'].max()})"
   ]
  },
  {
   "cell_type": "code",
   "execution_count": 49,
   "metadata": {},
   "outputs": [],
   "source": [
    "staten_island_5YR_analysis_df=pd.DataFrame({'Staten Island Crime Count 5yrs Decrease (%)':[staten_island_crime_df_5YR_perc_diff2],\n",
    "                'Staten Island Crime Count YR2017':staten_island_crime_df['STATEN ISLAND Crime Cnt'][5],\n",
    "                 'Staten Island Avg Price per SqFt 5yrs Increase (%)':[staten_island_price_df_5YR_perc_diff2],\n",
    "                'Staten Island Max Avg Price per SqFt 5yrs': staten_island_price_df['Staten Island Avg Price per sqft'].max(),\n",
    "                 'Staten Island Avg Rent 5yrs Increase (%)':[staten_island_rent_df_5YR_perc_diff2],\n",
    "                'Staten Island Max Avg Rent 5yrs':staten_island_rent_df['Staten Island Avg Rent'].max()})"
   ]
  },
  {
   "cell_type": "code",
   "execution_count": 50,
   "metadata": {},
   "outputs": [
    {
     "data": {
      "text/html": [
       "<div>\n",
       "<style scoped>\n",
       "    .dataframe tbody tr th:only-of-type {\n",
       "        vertical-align: middle;\n",
       "    }\n",
       "\n",
       "    .dataframe tbody tr th {\n",
       "        vertical-align: top;\n",
       "    }\n",
       "\n",
       "    .dataframe thead th {\n",
       "        text-align: right;\n",
       "    }\n",
       "</style>\n",
       "<table border=\"1\" class=\"dataframe\">\n",
       "  <thead>\n",
       "    <tr style=\"text-align: right;\">\n",
       "      <th></th>\n",
       "      <th>Manhattan Crime Count 5yrs Decrease (%)</th>\n",
       "      <th>Manhattan Crime Count YR2017</th>\n",
       "      <th>Manhattan Avg Price per SqFt 5yrs Increase (%)</th>\n",
       "      <th>Manhattan Max Avg Price per SqFt 5yrs</th>\n",
       "      <th>Manhattan Avg Rent 5yrs Increase (%)</th>\n",
       "      <th>Manhattan Max Avg Rent 5yrs</th>\n",
       "    </tr>\n",
       "  </thead>\n",
       "  <tbody>\n",
       "    <tr>\n",
       "      <th>0</th>\n",
       "      <td>-6.92754</td>\n",
       "      <td>111646</td>\n",
       "      <td>38.394352</td>\n",
       "      <td>1432.233333</td>\n",
       "      <td>19.343853</td>\n",
       "      <td>3786.842949</td>\n",
       "    </tr>\n",
       "  </tbody>\n",
       "</table>\n",
       "</div>"
      ],
      "text/plain": [
       "   Manhattan Crime Count 5yrs Decrease (%)  Manhattan Crime Count YR2017  \\\n",
       "0                                 -6.92754                        111646   \n",
       "\n",
       "   Manhattan Avg Price per SqFt 5yrs Increase (%)  \\\n",
       "0                                       38.394352   \n",
       "\n",
       "   Manhattan Max Avg Price per SqFt 5yrs  \\\n",
       "0                            1432.233333   \n",
       "\n",
       "   Manhattan Avg Rent 5yrs Increase (%)  Manhattan Max Avg Rent 5yrs  \n",
       "0                             19.343853                  3786.842949  "
      ]
     },
     "execution_count": 50,
     "metadata": {},
     "output_type": "execute_result"
    }
   ],
   "source": [
    "manhattan_5YR_analysis_df"
   ]
  },
  {
   "cell_type": "code",
   "execution_count": 51,
   "metadata": {},
   "outputs": [
    {
     "data": {
      "text/html": [
       "<div>\n",
       "<style scoped>\n",
       "    .dataframe tbody tr th:only-of-type {\n",
       "        vertical-align: middle;\n",
       "    }\n",
       "\n",
       "    .dataframe tbody tr th {\n",
       "        vertical-align: top;\n",
       "    }\n",
       "\n",
       "    .dataframe thead th {\n",
       "        text-align: right;\n",
       "    }\n",
       "</style>\n",
       "<table border=\"1\" class=\"dataframe\">\n",
       "  <thead>\n",
       "    <tr style=\"text-align: right;\">\n",
       "      <th></th>\n",
       "      <th>Brooklyn Crime Count 5yrs Decrease (%)</th>\n",
       "      <th>Brooklyn Crime Count YR2017</th>\n",
       "      <th>Brooklyn Avg Price per SqFt 5yrs Increase (%)</th>\n",
       "      <th>Brooklyn Max Avg Price per SqFt 5yrs</th>\n",
       "      <th>Brooklyn Avg Rent 5yrs Increase (%)</th>\n",
       "      <th>Brooklyn Max Avg Rent 5yrs</th>\n",
       "    </tr>\n",
       "  </thead>\n",
       "  <tbody>\n",
       "    <tr>\n",
       "      <th>0</th>\n",
       "      <td>-12.977223</td>\n",
       "      <td>134713.0</td>\n",
       "      <td>55.785208</td>\n",
       "      <td>708.587209</td>\n",
       "      <td>32.247545</td>\n",
       "      <td>2458.456597</td>\n",
       "    </tr>\n",
       "  </tbody>\n",
       "</table>\n",
       "</div>"
      ],
      "text/plain": [
       "   Brooklyn Crime Count 5yrs Decrease (%)  Brooklyn Crime Count YR2017  \\\n",
       "0                              -12.977223                     134713.0   \n",
       "\n",
       "   Brooklyn Avg Price per SqFt 5yrs Increase (%)  \\\n",
       "0                                      55.785208   \n",
       "\n",
       "   Brooklyn Max Avg Price per SqFt 5yrs  Brooklyn Avg Rent 5yrs Increase (%)  \\\n",
       "0                            708.587209                            32.247545   \n",
       "\n",
       "   Brooklyn Max Avg Rent 5yrs  \n",
       "0                 2458.456597  "
      ]
     },
     "execution_count": 51,
     "metadata": {},
     "output_type": "execute_result"
    }
   ],
   "source": [
    "brooklyn_5YR_analysis_df"
   ]
  },
  {
   "cell_type": "code",
   "execution_count": 52,
   "metadata": {},
   "outputs": [
    {
     "data": {
      "text/html": [
       "<div>\n",
       "<style scoped>\n",
       "    .dataframe tbody tr th:only-of-type {\n",
       "        vertical-align: middle;\n",
       "    }\n",
       "\n",
       "    .dataframe tbody tr th {\n",
       "        vertical-align: top;\n",
       "    }\n",
       "\n",
       "    .dataframe thead th {\n",
       "        text-align: right;\n",
       "    }\n",
       "</style>\n",
       "<table border=\"1\" class=\"dataframe\">\n",
       "  <thead>\n",
       "    <tr style=\"text-align: right;\">\n",
       "      <th></th>\n",
       "      <th>Queens Crime Count 5yrs Decrease (%)</th>\n",
       "      <th>Queens Crime Count YR2017</th>\n",
       "      <th>Queens Avg Price per SqFt 5yrs Increase (%)</th>\n",
       "      <th>Queens Max Avg Price per SqFt 5yrs</th>\n",
       "      <th>Queens Avg Rent 5yrs Increase (%)</th>\n",
       "      <th>Queens Max Avg Rent 5yrs</th>\n",
       "    </tr>\n",
       "  </thead>\n",
       "  <tbody>\n",
       "    <tr>\n",
       "      <th>0</th>\n",
       "      <td>-9.737628</td>\n",
       "      <td>89515.0</td>\n",
       "      <td>41.065411</td>\n",
       "      <td>490.720339</td>\n",
       "      <td>31.837031</td>\n",
       "      <td>2275.856557</td>\n",
       "    </tr>\n",
       "  </tbody>\n",
       "</table>\n",
       "</div>"
      ],
      "text/plain": [
       "   Queens Crime Count 5yrs Decrease (%)  Queens Crime Count YR2017  \\\n",
       "0                             -9.737628                    89515.0   \n",
       "\n",
       "   Queens Avg Price per SqFt 5yrs Increase (%)  \\\n",
       "0                                    41.065411   \n",
       "\n",
       "   Queens Max Avg Price per SqFt 5yrs  Queens Avg Rent 5yrs Increase (%)  \\\n",
       "0                          490.720339                          31.837031   \n",
       "\n",
       "   Queens Max Avg Rent 5yrs  \n",
       "0               2275.856557  "
      ]
     },
     "execution_count": 52,
     "metadata": {},
     "output_type": "execute_result"
    }
   ],
   "source": [
    "queens_5YR_analysis_df"
   ]
  },
  {
   "cell_type": "code",
   "execution_count": 53,
   "metadata": {},
   "outputs": [
    {
     "data": {
      "text/html": [
       "<div>\n",
       "<style scoped>\n",
       "    .dataframe tbody tr th:only-of-type {\n",
       "        vertical-align: middle;\n",
       "    }\n",
       "\n",
       "    .dataframe tbody tr th {\n",
       "        vertical-align: top;\n",
       "    }\n",
       "\n",
       "    .dataframe thead th {\n",
       "        text-align: right;\n",
       "    }\n",
       "</style>\n",
       "<table border=\"1\" class=\"dataframe\">\n",
       "  <thead>\n",
       "    <tr style=\"text-align: right;\">\n",
       "      <th></th>\n",
       "      <th>Bronx Crime Count 5yrs Decrease (%)</th>\n",
       "      <th>Bronx Crime Count YR2017</th>\n",
       "      <th>Bronx Avg Price per SqFt 5yrs Increase (%)</th>\n",
       "      <th>Bronx Max Avg Price per SqFt 5yrs</th>\n",
       "      <th>Bronx Avg Rent 5yrs Increase (%)</th>\n",
       "      <th>Bronx Max Avg Rent 5yrs</th>\n",
       "    </tr>\n",
       "  </thead>\n",
       "  <tbody>\n",
       "    <tr>\n",
       "      <th>0</th>\n",
       "      <td>-5.285252</td>\n",
       "      <td>101305.0</td>\n",
       "      <td>26.41878</td>\n",
       "      <td>312.254386</td>\n",
       "      <td>16.377095</td>\n",
       "      <td>1846.65873</td>\n",
       "    </tr>\n",
       "  </tbody>\n",
       "</table>\n",
       "</div>"
      ],
      "text/plain": [
       "   Bronx Crime Count 5yrs Decrease (%)  Bronx Crime Count YR2017  \\\n",
       "0                            -5.285252                  101305.0   \n",
       "\n",
       "   Bronx Avg Price per SqFt 5yrs Increase (%)  \\\n",
       "0                                    26.41878   \n",
       "\n",
       "   Bronx Max Avg Price per SqFt 5yrs  Bronx Avg Rent 5yrs Increase (%)  \\\n",
       "0                         312.254386                         16.377095   \n",
       "\n",
       "   Bronx Max Avg Rent 5yrs  \n",
       "0               1846.65873  "
      ]
     },
     "execution_count": 53,
     "metadata": {},
     "output_type": "execute_result"
    }
   ],
   "source": [
    "bronx_5YR_analysis_df"
   ]
  },
  {
   "cell_type": "code",
   "execution_count": 54,
   "metadata": {},
   "outputs": [
    {
     "data": {
      "text/html": [
       "<div>\n",
       "<style scoped>\n",
       "    .dataframe tbody tr th:only-of-type {\n",
       "        vertical-align: middle;\n",
       "    }\n",
       "\n",
       "    .dataframe tbody tr th {\n",
       "        vertical-align: top;\n",
       "    }\n",
       "\n",
       "    .dataframe thead th {\n",
       "        text-align: right;\n",
       "    }\n",
       "</style>\n",
       "<table border=\"1\" class=\"dataframe\">\n",
       "  <thead>\n",
       "    <tr style=\"text-align: right;\">\n",
       "      <th></th>\n",
       "      <th>Staten Island Crime Count 5yrs Decrease (%)</th>\n",
       "      <th>Staten Island Crime Count YR2017</th>\n",
       "      <th>Staten Island Avg Price per SqFt 5yrs Increase (%)</th>\n",
       "      <th>Staten Island Max Avg Price per SqFt 5yrs</th>\n",
       "      <th>Staten Island Avg Rent 5yrs Increase (%)</th>\n",
       "      <th>Staten Island Max Avg Rent 5yrs</th>\n",
       "    </tr>\n",
       "  </thead>\n",
       "  <tbody>\n",
       "    <tr>\n",
       "      <th>0</th>\n",
       "      <td>-11.705686</td>\n",
       "      <td>20856.0</td>\n",
       "      <td>30.315451</td>\n",
       "      <td>336.152778</td>\n",
       "      <td>15.367031</td>\n",
       "      <td>1601.062984</td>\n",
       "    </tr>\n",
       "  </tbody>\n",
       "</table>\n",
       "</div>"
      ],
      "text/plain": [
       "   Staten Island Crime Count 5yrs Decrease (%)  \\\n",
       "0                                   -11.705686   \n",
       "\n",
       "   Staten Island Crime Count YR2017  \\\n",
       "0                           20856.0   \n",
       "\n",
       "   Staten Island Avg Price per SqFt 5yrs Increase (%)  \\\n",
       "0                                          30.315451    \n",
       "\n",
       "   Staten Island Max Avg Price per SqFt 5yrs  \\\n",
       "0                                 336.152778   \n",
       "\n",
       "   Staten Island Avg Rent 5yrs Increase (%)  Staten Island Max Avg Rent 5yrs  \n",
       "0                                 15.367031                      1601.062984  "
      ]
     },
     "execution_count": 54,
     "metadata": {},
     "output_type": "execute_result"
    }
   ],
   "source": [
    "staten_island_5YR_analysis_df"
   ]
  }
 ],
 "metadata": {
  "kernelspec": {
   "display_name": "Python 3",
   "language": "python",
   "name": "python3"
  },
  "language_info": {
   "codemirror_mode": {
    "name": "ipython",
    "version": 3
   },
   "file_extension": ".py",
   "mimetype": "text/x-python",
   "name": "python",
   "nbconvert_exporter": "python",
   "pygments_lexer": "ipython3",
   "version": "3.6.5"
  }
 },
 "nbformat": 4,
 "nbformat_minor": 2
}
